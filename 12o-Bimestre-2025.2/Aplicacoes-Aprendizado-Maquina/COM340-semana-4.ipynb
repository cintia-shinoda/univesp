{
 "cells": [
  {
   "cell_type": "markdown",
   "id": "d800a034",
   "metadata": {},
   "source": [
    "# Semana 4 - Introdução aos Modelos Preditivos"
   ]
  },
  {
   "cell_type": "markdown",
   "id": "8b16a9b3",
   "metadata": {},
   "source": [
    "## Desafio"
   ]
  },
  {
   "cell_type": "markdown",
   "id": "7453300e",
   "metadata": {},
   "source": [
    "Suponha que a tabela abaixo está relacionada às condições climáticas e à decisão de uma pessoa de sair para jogar bola, em um conjunto de dados com 14 exemplos.\n",
    "\n",
    "A imagem representa uma tabela e é dividida em 6 colunas. A primeira coluna está dividida em 14 dias, em D1, D2, D3, e assim por diante, até o D14. A segunda coluna representa o tempo, por assim dizer, respectivamente: ensolarado, ensolarado, nublado, chuvoso, chuvoso, chuvoso, nublado, ensolarado, ensolarado, chuvoso, ensolarado, nublado, nublado, chuvoso. A terceira coluna representa a temperatura: quente, quente, quente, média, fria, fria, fria, média, fria, média, média, média, quente, média. A quarta coluna representa a umidade, assim distribuída: alta, alta, alta, alta, normal, normal, normal, alta, normal, normal, normal, alta, normal, alta. A quinta coluna representa o vento: fraco, forte, fraco, fraco, fraco, forte, forte, fraco, fraco, fraco, forte, forte, fraco, forte. A sexta coluna, e última, representa “joga”: não, não, sim, sim, sim, não, sim, não, sim, sim, sim, sim, sim, não.\n",
    "Utilizando a estratégia do algoritmo Naive Bayes. Determine se é mais provável que uma pessoa saia para jogar ou fique em casa, em um dia com as seguintes características: Tempo = Ensolarado, Temperatura = Fria, Umidade = Normal, Vento = Forte."
   ]
  },
  {
   "cell_type": "markdown",
   "id": "6b8c365b",
   "metadata": {},
   "source": [
    "##"
   ]
  },
  {
   "cell_type": "markdown",
   "id": "d9eb60ef",
   "metadata": {},
   "source": [
    "### Videoaula 10 - Introdução aos Modelos Precitivos"
   ]
  },
  {
   "cell_type": "markdown",
   "id": "340efb08",
   "metadata": {},
   "source": []
  },
  {
   "cell_type": "markdown",
   "id": "a60a1d92",
   "metadata": {},
   "source": [
    "#### Quiz - videoaula 10"
   ]
  },
  {
   "cell_type": "markdown",
   "id": "70de16c3",
   "metadata": {},
   "source": []
  },
  {
   "cell_type": "markdown",
   "id": "a9ca4298",
   "metadata": {},
   "source": [
    "### Videoaula 11 - Métodos baseados e distância (algoritmo K-NN)"
   ]
  },
  {
   "cell_type": "markdown",
   "id": "b43fa0d3",
   "metadata": {},
   "source": []
  },
  {
   "cell_type": "markdown",
   "id": "f8c26a17",
   "metadata": {},
   "source": [
    "#### Quiz - videoaula 11"
   ]
  },
  {
   "cell_type": "markdown",
   "id": "e2a4e55e",
   "metadata": {},
   "source": []
  },
  {
   "cell_type": "markdown",
   "id": "225a06b0",
   "metadata": {},
   "source": [
    "### Videoaula 12 - Métodos Probabilísticos (Algoritmo Naive Bayes)"
   ]
  },
  {
   "cell_type": "markdown",
   "id": "43a9f3c8",
   "metadata": {},
   "source": []
  },
  {
   "cell_type": "markdown",
   "id": "cb343b2c",
   "metadata": {},
   "source": [
    "### Quiz - videoaula 12"
   ]
  },
  {
   "cell_type": "markdown",
   "id": "747a7a91",
   "metadata": {},
   "source": []
  },
  {
   "cell_type": "markdown",
   "id": "c03f8169",
   "metadata": {},
   "source": [
    "## Material-Base"
   ]
  },
  {
   "cell_type": "markdown",
   "id": "3e4eddfc",
   "metadata": {},
   "source": [
    "### Texto-base 1"
   ]
  },
  {
   "cell_type": "markdown",
   "id": "d9447f1c",
   "metadata": {},
   "source": []
  },
  {
   "cell_type": "markdown",
   "id": "c376836c",
   "metadata": {},
   "source": [
    "### Texto-base 2"
   ]
  },
  {
   "cell_type": "markdown",
   "id": "11dae08d",
   "metadata": {},
   "source": []
  },
  {
   "cell_type": "markdown",
   "id": "689e10ad",
   "metadata": {},
   "source": [
    "### Texto-base 3"
   ]
  },
  {
   "cell_type": "markdown",
   "id": "646ccd35",
   "metadata": {},
   "source": []
  },
  {
   "cell_type": "markdown",
   "id": "1ca7940c",
   "metadata": {},
   "source": [
    "## Quiz Objeto Educacional"
   ]
  },
  {
   "cell_type": "markdown",
   "id": "90ede566",
   "metadata": {},
   "source": []
  },
  {
   "cell_type": "markdown",
   "id": "5c23ff4b",
   "metadata": {},
   "source": [
    "## Exercício de apoio"
   ]
  },
  {
   "cell_type": "markdown",
   "id": "489e49ee",
   "metadata": {},
   "source": []
  },
  {
   "cell_type": "markdown",
   "id": "8be3cf8d",
   "metadata": {},
   "source": [
    "## Atividade Prática"
   ]
  },
  {
   "cell_type": "markdown",
   "id": "ae4be6af",
   "metadata": {},
   "source": []
  },
  {
   "cell_type": "markdown",
   "id": "76011d6c",
   "metadata": {},
   "source": [
    "## Aprofundando o tema"
   ]
  },
  {
   "cell_type": "markdown",
   "id": "2d06d68e",
   "metadata": {},
   "source": [
    "### Classificação com k-vizinhos mais próximos (K-NN)"
   ]
  },
  {
   "cell_type": "markdown",
   "id": "22650899",
   "metadata": {},
   "source": []
  },
  {
   "cell_type": "markdown",
   "id": "c095df70",
   "metadata": {},
   "source": []
  },
  {
   "cell_type": "markdown",
   "id": "cee67ad4",
   "metadata": {},
   "source": []
  },
  {
   "cell_type": "markdown",
   "id": "4d5880cf",
   "metadata": {},
   "source": [
    "## Atividade Avaliativa - Semana 4"
   ]
  },
  {
   "cell_type": "markdown",
   "id": "3beef797",
   "metadata": {},
   "source": []
  },
  {
   "cell_type": "markdown",
   "id": "8f70511f",
   "metadata": {},
   "source": [
    "## Em Síntese"
   ]
  },
  {
   "cell_type": "markdown",
   "id": "2825d182",
   "metadata": {},
   "source": []
  },
  {
   "cell_type": "markdown",
   "id": "aefedff0",
   "metadata": {},
   "source": []
  }
 ],
 "metadata": {
  "language_info": {
   "name": "python"
  }
 },
 "nbformat": 4,
 "nbformat_minor": 5
}
