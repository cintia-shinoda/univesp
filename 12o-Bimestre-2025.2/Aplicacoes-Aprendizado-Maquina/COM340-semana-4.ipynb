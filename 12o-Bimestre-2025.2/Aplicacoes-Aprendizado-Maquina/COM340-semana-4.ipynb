{
 "cells": [
  {
   "cell_type": "markdown",
   "id": "d800a034",
   "metadata": {},
   "source": [
    "# Semana 4 - "
   ]
  },
  {
   "cell_type": "markdown",
   "id": "8b16a9b3",
   "metadata": {},
   "source": []
  }
 ],
 "metadata": {
  "language_info": {
   "name": "python"
  }
 },
 "nbformat": 4,
 "nbformat_minor": 5
}
