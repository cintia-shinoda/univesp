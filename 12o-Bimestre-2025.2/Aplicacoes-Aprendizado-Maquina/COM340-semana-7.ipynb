{
 "cells": [
  {
   "cell_type": "markdown",
   "id": "54d694be",
   "metadata": {},
   "source": [
    "# Semana 7 - O Aprendizado de Máquina na Prática"
   ]
  },
  {
   "cell_type": "markdown",
   "id": "758b0931",
   "metadata": {},
   "source": [
    "## Desafio"
   ]
  },
  {
   "cell_type": "markdown",
   "id": "3c848fef",
   "metadata": {},
   "source": []
  },
  {
   "cell_type": "markdown",
   "id": "ef7977b4",
   "metadata": {},
   "source": [
    "##"
   ]
  },
  {
   "cell_type": "markdown",
   "id": "8c00e90b",
   "metadata": {},
   "source": [
    "### Videoaula 19 - Bibliotecas e Frameworks"
   ]
  },
  {
   "cell_type": "markdown",
   "id": "f26e8f77",
   "metadata": {},
   "source": []
  },
  {
   "cell_type": "markdown",
   "id": "d27747c6",
   "metadata": {},
   "source": [
    "#### Quiz - videoaula 19"
   ]
  },
  {
   "cell_type": "markdown",
   "id": "e482f65a",
   "metadata": {},
   "source": []
  },
  {
   "cell_type": "markdown",
   "id": "9fbe85a0",
   "metadata": {},
   "source": [
    "### Videoaula 20 - Exemplo de Implementação de AM"
   ]
  },
  {
   "cell_type": "markdown",
   "id": "a8888960",
   "metadata": {},
   "source": []
  },
  {
   "cell_type": "markdown",
   "id": "c4deaff7",
   "metadata": {},
   "source": [
    "#### Quiz - videoaula 20"
   ]
  },
  {
   "cell_type": "markdown",
   "id": "70de1072",
   "metadata": {},
   "source": []
  },
  {
   "cell_type": "markdown",
   "id": "dfbdba97",
   "metadata": {},
   "source": [
    "### Videoaula 21 - Entrevista"
   ]
  },
  {
   "cell_type": "markdown",
   "id": "61c03771",
   "metadata": {},
   "source": []
  },
  {
   "cell_type": "markdown",
   "id": "04a39a73",
   "metadata": {},
   "source": [
    "#### Quiz - videoaula 21"
   ]
  },
  {
   "cell_type": "markdown",
   "id": "e8dc93e3",
   "metadata": {},
   "source": []
  },
  {
   "cell_type": "markdown",
   "id": "85b80f0b",
   "metadata": {},
   "source": [
    "## Material-Base"
   ]
  },
  {
   "cell_type": "markdown",
   "id": "c0524008",
   "metadata": {},
   "source": []
  },
  {
   "cell_type": "markdown",
   "id": "d30c333c",
   "metadata": {},
   "source": [
    "## Quiz Objeto Educacional"
   ]
  },
  {
   "cell_type": "markdown",
   "id": "61185447",
   "metadata": {},
   "source": []
  },
  {
   "cell_type": "markdown",
   "id": "88f26e15",
   "metadata": {},
   "source": [
    "## Aprofundando o Tema"
   ]
  },
  {
   "cell_type": "markdown",
   "id": "6b8ed97e",
   "metadata": {},
   "source": [
    "### Implmentação CNN"
   ]
  },
  {
   "cell_type": "markdown",
   "id": "97eca5c8",
   "metadata": {},
   "source": []
  },
  {
   "cell_type": "markdown",
   "id": "3fb68288",
   "metadata": {},
   "source": [
    "## Atividade Avaliativa - Semana 7"
   ]
  },
  {
   "cell_type": "markdown",
   "id": "51adfb1d",
   "metadata": {},
   "source": []
  },
  {
   "cell_type": "markdown",
   "id": "43c112d5",
   "metadata": {},
   "source": [
    "## Em Síntese"
   ]
  },
  {
   "cell_type": "markdown",
   "id": "2dfdde88",
   "metadata": {},
   "source": []
  }
 ],
 "metadata": {
  "language_info": {
   "name": "python"
  }
 },
 "nbformat": 4,
 "nbformat_minor": 5
}
