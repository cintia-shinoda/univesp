{
 "cells": [
  {
   "cell_type": "markdown",
   "id": "54d694be",
   "metadata": {},
   "source": [
    "# Semana 7 - "
   ]
  }
 ],
 "metadata": {
  "language_info": {
   "name": "python"
  }
 },
 "nbformat": 4,
 "nbformat_minor": 5
}
