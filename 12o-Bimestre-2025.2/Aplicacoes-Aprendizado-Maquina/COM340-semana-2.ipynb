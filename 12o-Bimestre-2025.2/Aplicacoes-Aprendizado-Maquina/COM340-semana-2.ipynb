{
 "cells": [
  {
   "cell_type": "markdown",
   "id": "04066e9f",
   "metadata": {},
   "source": [
    "# Semana 2 - Introdução aos Modelos Descritivos"
   ]
  },
  {
   "cell_type": "markdown",
   "id": "3c1d22b5",
   "metadata": {},
   "source": [
    "## Desafio"
   ]
  },
  {
   "cell_type": "markdown",
   "id": "3ca816cd",
   "metadata": {},
   "source": []
  },
  {
   "cell_type": "markdown",
   "id": "a2e5af64",
   "metadata": {},
   "source": [
    "## "
   ]
  },
  {
   "cell_type": "markdown",
   "id": "59896817",
   "metadata": {},
   "source": [
    "### Videoaula 4 - Introdução aos Modelos Descritivos"
   ]
  },
  {
   "cell_type": "markdown",
   "id": "5d348fbb",
   "metadata": {},
   "source": []
  },
  {
   "cell_type": "markdown",
   "id": "bd0c4543",
   "metadata": {},
   "source": [
    "#### Quiz da videoaula 4"
   ]
  },
  {
   "cell_type": "markdown",
   "id": "8417c3c4",
   "metadata": {},
   "source": []
  },
  {
   "cell_type": "markdown",
   "id": "7ee49a35",
   "metadata": {},
   "source": [
    "### Videoaula 5 - Aprendizado Não Supervisionado - Análise de Agrupamentos"
   ]
  },
  {
   "cell_type": "markdown",
   "id": "801e8d67",
   "metadata": {},
   "source": []
  },
  {
   "cell_type": "markdown",
   "id": "c374cd6d",
   "metadata": {},
   "source": [
    "#### Quiz da videoaula 5"
   ]
  },
  {
   "cell_type": "markdown",
   "id": "2262d11e",
   "metadata": {},
   "source": []
  },
  {
   "cell_type": "markdown",
   "id": "b118a2b5",
   "metadata": {},
   "source": [
    "### Videoaula 6 - Aprendizado Não Supervisionado - Algoritmos de Agrupamento (Algoritmo k-médias)"
   ]
  },
  {
   "cell_type": "markdown",
   "id": "4cec700b",
   "metadata": {},
   "source": []
  },
  {
   "cell_type": "markdown",
   "id": "b04e2d47",
   "metadata": {},
   "source": [
    "#### Quiz da videoaula 6"
   ]
  },
  {
   "cell_type": "markdown",
   "id": "2fe8c0a2",
   "metadata": {},
   "source": []
  },
  {
   "cell_type": "markdown",
   "id": "83e7c201",
   "metadata": {},
   "source": [
    "## Material-Base"
   ]
  },
  {
   "cell_type": "markdown",
   "id": "9ac29f54",
   "metadata": {},
   "source": [
    "### Texto-base 1"
   ]
  },
  {
   "cell_type": "markdown",
   "id": "1d3d4dab",
   "metadata": {},
   "source": []
  },
  {
   "cell_type": "markdown",
   "id": "3bd68251",
   "metadata": {},
   "source": [
    "### Texto-base 2"
   ]
  },
  {
   "cell_type": "markdown",
   "id": "e6463e3e",
   "metadata": {},
   "source": []
  },
  {
   "cell_type": "markdown",
   "id": "ed0ff8b4",
   "metadata": {},
   "source": [
    "### Texto-base 3"
   ]
  },
  {
   "cell_type": "markdown",
   "id": "ccac1288",
   "metadata": {},
   "source": []
  },
  {
   "cell_type": "markdown",
   "id": "47df4789",
   "metadata": {},
   "source": [
    "### Exercício de apoio"
   ]
  },
  {
   "cell_type": "markdown",
   "id": "ddf50947",
   "metadata": {},
   "source": []
  },
  {
   "cell_type": "markdown",
   "id": "5e1c16c3",
   "metadata": {},
   "source": [
    "### Atividades Práticas"
   ]
  },
  {
   "cell_type": "markdown",
   "id": "caf569a0",
   "metadata": {},
   "source": []
  },
  {
   "cell_type": "markdown",
   "id": "3d9a9483",
   "metadata": {},
   "source": [
    "### Quiz Objeto Educacional"
   ]
  },
  {
   "cell_type": "markdown",
   "id": "57b67f51",
   "metadata": {},
   "source": []
  },
  {
   "cell_type": "markdown",
   "id": "66072778",
   "metadata": {},
   "source": [
    "## Aprofundando o tema"
   ]
  },
  {
   "cell_type": "markdown",
   "id": "2f0fed10",
   "metadata": {},
   "source": [
    "### Material de apoio"
   ]
  },
  {
   "cell_type": "markdown",
   "id": "8da18fed",
   "metadata": {},
   "source": []
  },
  {
   "cell_type": "markdown",
   "id": "a8268794",
   "metadata": {},
   "source": []
  },
  {
   "cell_type": "markdown",
   "id": "873c4817",
   "metadata": {},
   "source": []
  },
  {
   "cell_type": "markdown",
   "id": "fe1319d1",
   "metadata": {},
   "source": [
    "## Atividade Avaliativa - Semana 2"
   ]
  },
  {
   "cell_type": "markdown",
   "id": "10192b92",
   "metadata": {},
   "source": []
  },
  {
   "cell_type": "markdown",
   "id": "546affd2",
   "metadata": {},
   "source": []
  },
  {
   "cell_type": "markdown",
   "id": "173a1555",
   "metadata": {},
   "source": [
    "## Em Síntese"
   ]
  },
  {
   "cell_type": "markdown",
   "id": "ca98bee7",
   "metadata": {},
   "source": []
  }
 ],
 "metadata": {
  "language_info": {
   "name": "python"
  }
 },
 "nbformat": 4,
 "nbformat_minor": 5
}
