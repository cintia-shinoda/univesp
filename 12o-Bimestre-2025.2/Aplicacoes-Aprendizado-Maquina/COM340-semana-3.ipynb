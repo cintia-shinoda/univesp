{
 "cells": [
  {
   "cell_type": "markdown",
   "id": "5702393d",
   "metadata": {},
   "source": [
    "# Semana 3 - Algoritmos de Agrupamento e Validação de Modelos Descritivos"
   ]
  },
  {
   "cell_type": "markdown",
   "id": "151a888a",
   "metadata": {},
   "source": []
  },
  {
   "cell_type": "markdown",
   "id": "4cb9059c",
   "metadata": {},
   "source": [
    "## Desafio"
   ]
  },
  {
   "cell_type": "markdown",
   "id": "26027133",
   "metadata": {},
   "source": []
  },
  {
   "cell_type": "markdown",
   "id": "6cdaf59a",
   "metadata": {},
   "source": [
    "##"
   ]
  },
  {
   "cell_type": "markdown",
   "id": "f93a3f26",
   "metadata": {},
   "source": [
    "### Videoaula 7 - Algoritmos de Agrupamentos Hierárquico"
   ]
  },
  {
   "cell_type": "markdown",
   "id": "82a28d87",
   "metadata": {},
   "source": []
  },
  {
   "cell_type": "markdown",
   "id": "94c46975",
   "metadata": {},
   "source": [
    "#### Quiz da videoaula 7"
   ]
  },
  {
   "cell_type": "markdown",
   "id": "ba2c2291",
   "metadata": {},
   "source": []
  },
  {
   "cell_type": "markdown",
   "id": "68deef76",
   "metadata": {},
   "source": [
    "### Videoaula 8 - Algoritmos de Agrupamento baseados em Densidade"
   ]
  },
  {
   "cell_type": "markdown",
   "id": "8d20a18b",
   "metadata": {},
   "source": []
  },
  {
   "cell_type": "markdown",
   "id": "b32de7d5",
   "metadata": {},
   "source": [
    "#### Quiz da videoaula 8"
   ]
  },
  {
   "cell_type": "markdown",
   "id": "3bca3741",
   "metadata": {},
   "source": []
  },
  {
   "cell_type": "markdown",
   "id": "47c843ed",
   "metadata": {},
   "source": [
    "### Videoaula 9 - Validação de Modelos Descritivos"
   ]
  },
  {
   "cell_type": "markdown",
   "id": "987c6b43",
   "metadata": {},
   "source": []
  },
  {
   "cell_type": "markdown",
   "id": "d878edef",
   "metadata": {},
   "source": [
    "#### Quiz da videoaula 9"
   ]
  },
  {
   "cell_type": "markdown",
   "id": "f917abae",
   "metadata": {},
   "source": []
  },
  {
   "cell_type": "markdown",
   "id": "20570c81",
   "metadata": {},
   "source": [
    "## Material-base"
   ]
  },
  {
   "cell_type": "markdown",
   "id": "e53826b5",
   "metadata": {},
   "source": [
    "### Texto-base 1"
   ]
  },
  {
   "cell_type": "markdown",
   "id": "639d0140",
   "metadata": {},
   "source": []
  },
  {
   "cell_type": "markdown",
   "id": "278d7560",
   "metadata": {},
   "source": [
    "### Texto-base 2"
   ]
  },
  {
   "cell_type": "markdown",
   "id": "d91b312d",
   "metadata": {},
   "source": []
  },
  {
   "cell_type": "markdown",
   "id": "7fb30250",
   "metadata": {},
   "source": [
    "### Texto-base 3"
   ]
  },
  {
   "cell_type": "markdown",
   "id": "583d423e",
   "metadata": {},
   "source": []
  },
  {
   "cell_type": "markdown",
   "id": "d8675bc2",
   "metadata": {},
   "source": [
    "## Atividades Práticas"
   ]
  },
  {
   "cell_type": "markdown",
   "id": "9e3d9494",
   "metadata": {},
   "source": []
  },
  {
   "cell_type": "markdown",
   "id": "6f03c9bf",
   "metadata": {},
   "source": []
  },
  {
   "cell_type": "markdown",
   "id": "7ca4c76d",
   "metadata": {},
   "source": [
    "## Quiz Objeto Educacional"
   ]
  },
  {
   "cell_type": "markdown",
   "id": "edba3c63",
   "metadata": {},
   "source": []
  },
  {
   "cell_type": "markdown",
   "id": "9857d7be",
   "metadata": {},
   "source": [
    "## Aprofundando o tema"
   ]
  },
  {
   "cell_type": "markdown",
   "id": "8a9e6240",
   "metadata": {},
   "source": [
    "### Agrupamento hierárquico"
   ]
  },
  {
   "cell_type": "markdown",
   "id": "e28c1bff",
   "metadata": {},
   "source": []
  },
  {
   "cell_type": "markdown",
   "id": "9ac7d415",
   "metadata": {},
   "source": [
    "### Agrupamento com DBSCAN"
   ]
  },
  {
   "cell_type": "markdown",
   "id": "d18ca7d4",
   "metadata": {},
   "source": []
  },
  {
   "cell_type": "markdown",
   "id": "d7d851fb",
   "metadata": {},
   "source": [
    "## Atividade Avaliativa - Semana 3"
   ]
  },
  {
   "cell_type": "markdown",
   "id": "f037e723",
   "metadata": {},
   "source": []
  },
  {
   "cell_type": "markdown",
   "id": "c4a4e497",
   "metadata": {},
   "source": [
    "## Em Síntese"
   ]
  },
  {
   "cell_type": "markdown",
   "id": "5f4c27a8",
   "metadata": {},
   "source": []
  },
  {
   "cell_type": "markdown",
   "id": "8618831c",
   "metadata": {},
   "source": []
  }
 ],
 "metadata": {
  "language_info": {
   "name": "python"
  }
 },
 "nbformat": 4,
 "nbformat_minor": 5
}
