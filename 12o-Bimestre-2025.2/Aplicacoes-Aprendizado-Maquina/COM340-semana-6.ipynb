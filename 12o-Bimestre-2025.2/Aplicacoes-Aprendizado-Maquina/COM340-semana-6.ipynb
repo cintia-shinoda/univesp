{
 "cells": [
  {
   "cell_type": "markdown",
   "id": "1534157c",
   "metadata": {},
   "source": [
    "# Semana 6 - Redes Neurais e Frameworks"
   ]
  },
  {
   "cell_type": "markdown",
   "id": "a6e10375",
   "metadata": {},
   "source": [
    "## Desafio"
   ]
  },
  {
   "cell_type": "markdown",
   "id": "a06a8403",
   "metadata": {},
   "source": []
  },
  {
   "cell_type": "markdown",
   "id": "c512f5de",
   "metadata": {},
   "source": [
    "##"
   ]
  },
  {
   "cell_type": "markdown",
   "id": "bf373fee",
   "metadata": {},
   "source": [
    "### Videoaula 16 - Métodos Conexionistas (Redes Neurais)"
   ]
  },
  {
   "cell_type": "markdown",
   "id": "e9db51be",
   "metadata": {},
   "source": []
  },
  {
   "cell_type": "markdown",
   "id": "f770e039",
   "metadata": {},
   "source": [
    "#### Quiz - videoaula 16"
   ]
  },
  {
   "cell_type": "markdown",
   "id": "aac0d8a0",
   "metadata": {},
   "source": []
  },
  {
   "cell_type": "markdown",
   "id": "2ee2db74",
   "metadata": {},
   "source": [
    "### Videoaula 17 - Métodos Conexionistas (Redes Neurais Convolucionais)"
   ]
  },
  {
   "cell_type": "markdown",
   "id": "47ac0404",
   "metadata": {},
   "source": []
  },
  {
   "cell_type": "markdown",
   "id": "e7cb61d6",
   "metadata": {},
   "source": [
    "#### Quiz - videoaula 17"
   ]
  },
  {
   "cell_type": "markdown",
   "id": "de9e8a6a",
   "metadata": {},
   "source": []
  },
  {
   "cell_type": "markdown",
   "id": "51e3ac77",
   "metadata": {},
   "source": [
    "### Videoaula 18 - Aplicações em Aprendizado de Máquina"
   ]
  },
  {
   "cell_type": "markdown",
   "id": "3acdc412",
   "metadata": {},
   "source": []
  },
  {
   "cell_type": "markdown",
   "id": "79188e21",
   "metadata": {},
   "source": [
    "#### Quiz - videoaula 18"
   ]
  },
  {
   "cell_type": "markdown",
   "id": "519b8bb3",
   "metadata": {},
   "source": []
  },
  {
   "cell_type": "markdown",
   "id": "844f0e45",
   "metadata": {},
   "source": [
    "## Material-Base"
   ]
  },
  {
   "cell_type": "markdown",
   "id": "bf427802",
   "metadata": {},
   "source": [
    "### Texto-base 1"
   ]
  },
  {
   "cell_type": "markdown",
   "id": "7ef32a56",
   "metadata": {},
   "source": []
  },
  {
   "cell_type": "markdown",
   "id": "c030bbc5",
   "metadata": {},
   "source": [
    "### Texto-base 2"
   ]
  },
  {
   "cell_type": "markdown",
   "id": "93303569",
   "metadata": {},
   "source": []
  },
  {
   "cell_type": "markdown",
   "id": "1c136b20",
   "metadata": {},
   "source": [
    "### Texto-base 3"
   ]
  },
  {
   "cell_type": "markdown",
   "id": "1a014038",
   "metadata": {},
   "source": []
  },
  {
   "cell_type": "markdown",
   "id": "59d072b1",
   "metadata": {},
   "source": [
    "## Aprofundando o tema"
   ]
  },
  {
   "cell_type": "markdown",
   "id": "b671dbda",
   "metadata": {},
   "source": []
  },
  {
   "cell_type": "markdown",
   "id": "afd304b8",
   "metadata": {},
   "source": [
    "## Quiz Objeto Educacional"
   ]
  },
  {
   "cell_type": "markdown",
   "id": "b60c0b4d",
   "metadata": {},
   "source": []
  },
  {
   "cell_type": "markdown",
   "id": "0ffe9856",
   "metadata": {},
   "source": [
    "## Atividade Avaliativa"
   ]
  },
  {
   "cell_type": "markdown",
   "id": "762efff3",
   "metadata": {},
   "source": []
  },
  {
   "cell_type": "markdown",
   "id": "aefeeea4",
   "metadata": {},
   "source": [
    "## Em Síntese"
   ]
  },
  {
   "cell_type": "markdown",
   "id": "809259dd",
   "metadata": {},
   "source": []
  },
  {
   "cell_type": "markdown",
   "id": "f08e7fee",
   "metadata": {},
   "source": []
  }
 ],
 "metadata": {
  "language_info": {
   "name": "python"
  }
 },
 "nbformat": 4,
 "nbformat_minor": 5
}
