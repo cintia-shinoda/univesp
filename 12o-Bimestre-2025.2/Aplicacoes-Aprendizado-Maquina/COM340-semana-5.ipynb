{
 "cells": [
  {
   "cell_type": "markdown",
   "id": "e816d4ea",
   "metadata": {},
   "source": [
    "# Semana 5 - Métodos de Maximização de Margens, Métodos Simbólicos e Avaliação de Modelos Preditivos"
   ]
  },
  {
   "cell_type": "markdown",
   "id": "8fbbcfcb",
   "metadata": {},
   "source": [
    "## Desafio"
   ]
  },
  {
   "cell_type": "markdown",
   "id": "9634a220",
   "metadata": {},
   "source": []
  },
  {
   "cell_type": "markdown",
   "id": "f07d13d0",
   "metadata": {},
   "source": [
    "##"
   ]
  },
  {
   "cell_type": "markdown",
   "id": "88731810",
   "metadata": {},
   "source": [
    "### Videoaula 13 - Métodos Simbólicos (Árvores de Decisão)"
   ]
  },
  {
   "cell_type": "markdown",
   "id": "ed8aded1",
   "metadata": {},
   "source": []
  },
  {
   "cell_type": "markdown",
   "id": "bfee361d",
   "metadata": {},
   "source": [
    "#### Quiz - videoaula 13"
   ]
  },
  {
   "cell_type": "markdown",
   "id": "0cf41da4",
   "metadata": {},
   "source": []
  },
  {
   "cell_type": "markdown",
   "id": "fe4d726d",
   "metadata": {},
   "source": [
    "### Videoaula 14 - Aprendizado Supervisionado - Métodos de Maximização de Margens (SVMs)"
   ]
  },
  {
   "cell_type": "markdown",
   "id": "40eb779b",
   "metadata": {},
   "source": []
  },
  {
   "cell_type": "markdown",
   "id": "b0465cab",
   "metadata": {},
   "source": [
    "#### Quiz - videoaula 14"
   ]
  },
  {
   "cell_type": "markdown",
   "id": "97890860",
   "metadata": {},
   "source": []
  },
  {
   "cell_type": "markdown",
   "id": "b4213611",
   "metadata": {},
   "source": [
    "### Videoaula 15 - Avaliação de Modelos Preditivos"
   ]
  },
  {
   "cell_type": "markdown",
   "id": "7985a8b2",
   "metadata": {},
   "source": []
  },
  {
   "cell_type": "markdown",
   "id": "5d48366b",
   "metadata": {},
   "source": [
    "#### Quiz - videoaula 15"
   ]
  },
  {
   "cell_type": "markdown",
   "id": "33a93824",
   "metadata": {},
   "source": []
  },
  {
   "cell_type": "markdown",
   "id": "f05f7c8a",
   "metadata": {},
   "source": [
    "## Material-Base"
   ]
  },
  {
   "cell_type": "markdown",
   "id": "0c148ac4",
   "metadata": {},
   "source": [
    "### Texto-base 1"
   ]
  },
  {
   "cell_type": "markdown",
   "id": "9074cdc3",
   "metadata": {},
   "source": []
  },
  {
   "cell_type": "markdown",
   "id": "313b74b0",
   "metadata": {},
   "source": [
    "### Texto-base 2"
   ]
  },
  {
   "cell_type": "markdown",
   "id": "c19bd8b7",
   "metadata": {},
   "source": []
  },
  {
   "cell_type": "markdown",
   "id": "551e3dd9",
   "metadata": {},
   "source": [
    "### Texto-base 3"
   ]
  },
  {
   "cell_type": "markdown",
   "id": "1586d4a1",
   "metadata": {},
   "source": []
  },
  {
   "cell_type": "markdown",
   "id": "531860ae",
   "metadata": {},
   "source": [
    "## Quiz Objeto Educacional"
   ]
  },
  {
   "cell_type": "markdown",
   "id": "7975257f",
   "metadata": {},
   "source": []
  },
  {
   "cell_type": "markdown",
   "id": "fa5e3c90",
   "metadata": {},
   "source": [
    "## Atividade Prática"
   ]
  },
  {
   "cell_type": "markdown",
   "id": "b41b935d",
   "metadata": {},
   "source": []
  },
  {
   "cell_type": "markdown",
   "id": "c9215e9d",
   "metadata": {},
   "source": [
    "## Aprofundando o Tema"
   ]
  },
  {
   "cell_type": "markdown",
   "id": "a6ce6ca3",
   "metadata": {},
   "source": [
    "### Material de apoio"
   ]
  },
  {
   "cell_type": "markdown",
   "id": "879cf47b",
   "metadata": {},
   "source": []
  },
  {
   "cell_type": "markdown",
   "id": "e3ce22ab",
   "metadata": {},
   "source": [
    "### Material de Apoio"
   ]
  },
  {
   "cell_type": "markdown",
   "id": "f1646add",
   "metadata": {},
   "source": []
  },
  {
   "cell_type": "markdown",
   "id": "5bdc351c",
   "metadata": {},
   "source": [
    "###"
   ]
  },
  {
   "cell_type": "markdown",
   "id": "188494da",
   "metadata": {},
   "source": []
  },
  {
   "cell_type": "markdown",
   "id": "2f63ac92",
   "metadata": {},
   "source": [
    "### "
   ]
  },
  {
   "cell_type": "markdown",
   "id": "dcc91e1b",
   "metadata": {},
   "source": []
  },
  {
   "cell_type": "markdown",
   "id": "6c0235f4",
   "metadata": {},
   "source": [
    "## Atividade Avaliativa - Semana 5"
   ]
  },
  {
   "cell_type": "markdown",
   "id": "2ddf2fa2",
   "metadata": {},
   "source": []
  },
  {
   "cell_type": "markdown",
   "id": "22a54a2d",
   "metadata": {},
   "source": [
    "## Em Síntese"
   ]
  },
  {
   "cell_type": "markdown",
   "id": "963663a6",
   "metadata": {},
   "source": []
  }
 ],
 "metadata": {
  "language_info": {
   "name": "python"
  }
 },
 "nbformat": 4,
 "nbformat_minor": 5
}
