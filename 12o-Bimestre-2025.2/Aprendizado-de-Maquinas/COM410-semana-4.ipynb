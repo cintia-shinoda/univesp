{
 "cells": [
  {
   "cell_type": "markdown",
   "id": "d3467556",
   "metadata": {},
   "source": [
    "# Semana 4 - Aprendizado baseado em maximização de margens"
   ]
  },
  {
   "cell_type": "markdown",
   "id": "13eae5dd",
   "metadata": {},
   "source": [
    "## Desafio"
   ]
  },
  {
   "cell_type": "markdown",
   "id": "bec50398",
   "metadata": {},
   "source": [
    "A tabela a seguir contém as características de tamanho (altura, largura e profundidade) de 10 objetos pertencentes a duas diferentes classes. Se você tivesse que escolher uma das características para classificar esses dados, qual seria? Escreva sua opinião no fórum temático.\n",
    "\n",
    "\n",
    "| Objeto | Altura (cm) | Largura (cm) | Profundidade (cm) | Classe |\n",
    "|:--------:|:-------------:|:--------------:|-------------------:|:--------:|\n",
    "|1\t|35|\t47\t|16|\t1|\n",
    "|2\t|33\t|54\t|15\t|1|\n",
    "|3\t|29\t|49\t|14\t|1|\n",
    "|4\t|34\t|51\t|16\t|1|\n",
    "|5\t|31\t|50\t|14\t|1|\n",
    "|6\t|28\t|29\t|18\t|2|\n",
    "|7\t|28\t|29\t|18\t|2|\n",
    "|8\t|27\t|30\t|19\t|2|\n",
    "|9\t|26\t|25\t|21\t|2|\n",
    "|10\t|27\t|26\t|22\t|2|"
   ]
  },
  {
   "cell_type": "markdown",
   "id": "c95484f6",
   "metadata": {},
   "source": [
    "## Revisitando Conhecimentos"
   ]
  },
  {
   "cell_type": "markdown",
   "id": "f702fe1d",
   "metadata": {},
   "source": [
    "### Material de Apoio"
   ]
  },
  {
   "cell_type": "markdown",
   "id": "9920069c",
   "metadata": {},
   "source": []
  },
  {
   "cell_type": "markdown",
   "id": "50d63f55",
   "metadata": {},
   "source": [
    "### Material de Apoio"
   ]
  },
  {
   "cell_type": "markdown",
   "id": "4dccb286",
   "metadata": {},
   "source": []
  },
  {
   "cell_type": "markdown",
   "id": "6c412bb8",
   "metadata": {},
   "source": [
    "##"
   ]
  },
  {
   "cell_type": "markdown",
   "id": "f717abe9",
   "metadata": {},
   "source": [
    "### Texto-base 1"
   ]
  },
  {
   "cell_type": "markdown",
   "id": "dadbcd27",
   "metadata": {},
   "source": []
  },
  {
   "cell_type": "markdown",
   "id": "fefa1c8a",
   "metadata": {},
   "source": [
    "### Texto-base 2"
   ]
  },
  {
   "cell_type": "markdown",
   "id": "2a91a886",
   "metadata": {},
   "source": []
  },
  {
   "cell_type": "markdown",
   "id": "2a468248",
   "metadata": {},
   "source": [
    "### Quiz Objeto Educacional"
   ]
  },
  {
   "cell_type": "markdown",
   "id": "aed457ab",
   "metadata": {},
   "source": []
  },
  {
   "cell_type": "markdown",
   "id": "61e87c9f",
   "metadata": {},
   "source": [
    "### Videoaula 9 - Máquinas de Vetores de Suporte (SVMs)"
   ]
  },
  {
   "cell_type": "markdown",
   "id": "cf63b987",
   "metadata": {},
   "source": []
  },
  {
   "cell_type": "markdown",
   "id": "0c1e8a7f",
   "metadata": {},
   "source": [
    "#### Quiz - videoaula 9"
   ]
  },
  {
   "cell_type": "markdown",
   "id": "be63c31e",
   "metadata": {},
   "source": []
  },
  {
   "cell_type": "markdown",
   "id": "832912fc",
   "metadata": {},
   "source": [
    "### Videoaula 10 - Aplicação do algoritmo SVM"
   ]
  },
  {
   "cell_type": "markdown",
   "id": "d2f62760",
   "metadata": {},
   "source": []
  },
  {
   "cell_type": "markdown",
   "id": "173e98a4",
   "metadata": {},
   "source": [
    "#### Quiz - videoaula 10"
   ]
  },
  {
   "cell_type": "markdown",
   "id": "19ae0659",
   "metadata": {},
   "source": []
  },
  {
   "cell_type": "markdown",
   "id": "017f293f",
   "metadata": {},
   "source": [
    "## Materiais de Apoio"
   ]
  },
  {
   "cell_type": "markdown",
   "id": "ce2db28c",
   "metadata": {},
   "source": []
  },
  {
   "cell_type": "markdown",
   "id": "e2760e2d",
   "metadata": {},
   "source": [
    "### Exercício de Apoio"
   ]
  },
  {
   "cell_type": "markdown",
   "id": "53ede23d",
   "metadata": {},
   "source": [
    "O conjunto de dados deste exercício contém características de duas espécies de arroz. Use SVM para classificar as espécies de arroz. Faça os seguintes passos:\n",
    "\n",
    "Crie o classificador usando todos os atributos (exceto id e Class).\n",
    "Separe os dados em treinamento e teste.\n",
    "Reduza a escala dos valores dos atributos para agilizar a execução do código.\n",
    "Use a função de kernel polinomial.\n",
    "Verifique a acurácia do classificador.\n",
    "Crie novamente o classificador, agora usando dois atributos (por exemplo, Area e MajorAxisLength) usando as funções kernel linear, polinomial e sigmoidal.\n",
    "Repita os passos 2 e 3.\n",
    "Verifique a acurácia dos classificadores.\n",
    "Plote os resultados obtidos.\n",
    "Qual foi o melhor desempenho que você obteve?\n",
    "O conjunto de dados contém os atributos descritos a seguir, e está disponível no link abaixo:\n",
    "\n",
    "https://raw.githubusercontent.com/higoramario/univesp-com410-aprendizado-de-maquinas/main/rice-classification.csv\n",
    "\n",
    "Atributos:\n",
    "\n",
    "id: identificador do objeto\n",
    "Area: área do grão\n",
    "MajorAxisLength: tamanho do eixo principal\n",
    "MinorAxisLength: tamanho do eixo menor\n",
    "Eccentricity: excentricidade\n",
    "ConvexArea: área convexa\n",
    "EquivDiameter: diâmetro equivalente\n",
    "Extent: extensão\n",
    "Perimeter: perímetro\n",
    "Roundness: redondeza\n",
    "AspectRation: razão de aspecto\n",
    "Class (atributo alvo): tipo de arroz (1 - Jasmine, 0 - Gonen)\n",
    "Observações:\n",
    "\n",
    "Se necessário, use o código apresentado na videoaula 10 (Aplicação do algoritmo SVM) desta semana. Lá, há exemplos de como reduzir a escala de dados e de como plotar os resultados das SVMs.\n",
    "O dataset deste exercício é baseado no dataset Rice type classification, que está em:\n",
    "https://www.kaggle.com/datasets/mssmartypants/rice-type-classification"
   ]
  },
  {
   "cell_type": "markdown",
   "id": "eceed9c3",
   "metadata": {},
   "source": []
  },
  {
   "cell_type": "markdown",
   "id": "3e2acd1e",
   "metadata": {},
   "source": []
  },
  {
   "cell_type": "markdown",
   "id": "8edf8e70",
   "metadata": {},
   "source": [
    "## Aprofundando o Tema"
   ]
  },
  {
   "cell_type": "markdown",
   "id": "78d5d023",
   "metadata": {},
   "source": [
    "### Texto de apoio"
   ]
  },
  {
   "cell_type": "markdown",
   "id": "65d2c12b",
   "metadata": {},
   "source": []
  },
  {
   "cell_type": "markdown",
   "id": "276b6c25",
   "metadata": {},
   "source": [
    "### Vídeo de apoio"
   ]
  },
  {
   "cell_type": "markdown",
   "id": "8d0a7c4e",
   "metadata": {},
   "source": []
  },
  {
   "cell_type": "markdown",
   "id": "67c7e088",
   "metadata": {},
   "source": [
    "### Vídeo de Apoio"
   ]
  },
  {
   "cell_type": "markdown",
   "id": "91e0b67d",
   "metadata": {},
   "source": []
  },
  {
   "cell_type": "markdown",
   "id": "08c50e34",
   "metadata": {},
   "source": [
    "## Atividade Avaliativa - Semana 4"
   ]
  },
  {
   "cell_type": "markdown",
   "id": "18b4d6a7",
   "metadata": {},
   "source": []
  },
  {
   "cell_type": "markdown",
   "id": "945e5ae9",
   "metadata": {},
   "source": [
    "## Em Síntese"
   ]
  },
  {
   "cell_type": "markdown",
   "id": "2aba991c",
   "metadata": {},
   "source": []
  },
  {
   "cell_type": "markdown",
   "id": "29847677",
   "metadata": {},
   "source": []
  }
 ],
 "metadata": {
  "language_info": {
   "name": "python"
  }
 },
 "nbformat": 4,
 "nbformat_minor": 5
}
