{
 "cells": [
  {
   "cell_type": "markdown",
   "id": "d3467556",
   "metadata": {},
   "source": [
    "# Semana 4 - "
   ]
  },
  {
   "cell_type": "markdown",
   "id": "13eae5dd",
   "metadata": {},
   "source": []
  }
 ],
 "metadata": {
  "language_info": {
   "name": "python"
  }
 },
 "nbformat": 4,
 "nbformat_minor": 5
}
