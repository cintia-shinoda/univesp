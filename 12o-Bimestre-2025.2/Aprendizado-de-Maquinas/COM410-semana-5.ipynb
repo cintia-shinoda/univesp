{
 "cells": [
  {
   "cell_type": "markdown",
   "id": "301ffbff",
   "metadata": {},
   "source": [
    "# Semana 5 - Agrupamento de Dados / Aprendizado baseado em distâncias"
   ]
  },
  {
   "cell_type": "markdown",
   "id": "8424814d",
   "metadata": {},
   "source": [
    "## Desafio"
   ]
  },
  {
   "cell_type": "markdown",
   "id": "18987dc9",
   "metadata": {},
   "source": []
  },
  {
   "cell_type": "markdown",
   "id": "73991627",
   "metadata": {},
   "source": [
    "##"
   ]
  },
  {
   "cell_type": "markdown",
   "id": "826ec0cc",
   "metadata": {},
   "source": [
    "### Texto-base 1"
   ]
  },
  {
   "cell_type": "markdown",
   "id": "09237aa6",
   "metadata": {},
   "source": []
  },
  {
   "cell_type": "markdown",
   "id": "4e2ea8e6",
   "metadata": {},
   "source": [
    "### Videoaula 11 - Aprendizado para Agrupamento"
   ]
  },
  {
   "cell_type": "markdown",
   "id": "c7382fba",
   "metadata": {},
   "source": []
  },
  {
   "cell_type": "markdown",
   "id": "a82cc35d",
   "metadata": {},
   "source": [
    "#### Quiz - videoaula 11"
   ]
  },
  {
   "cell_type": "markdown",
   "id": "ea558839",
   "metadata": {},
   "source": []
  },
  {
   "cell_type": "markdown",
   "id": "ddba21ac",
   "metadata": {},
   "source": [
    "### Texto-base 2"
   ]
  },
  {
   "cell_type": "markdown",
   "id": "22d6cb16",
   "metadata": {},
   "source": []
  },
  {
   "cell_type": "markdown",
   "id": "123b82a7",
   "metadata": {},
   "source": [
    "### Videoaula 12 - Algoritmos de Agrupamento"
   ]
  },
  {
   "cell_type": "markdown",
   "id": "7dd08aa9",
   "metadata": {},
   "source": []
  },
  {
   "cell_type": "markdown",
   "id": "d2dbe28f",
   "metadata": {},
   "source": [
    "#### Quiz - videoaula 12"
   ]
  },
  {
   "cell_type": "markdown",
   "id": "a8639a7d",
   "metadata": {},
   "source": []
  },
  {
   "cell_type": "markdown",
   "id": "b6d2a313",
   "metadata": {},
   "source": [
    "### Videoaula 13 - Aplicação do Algoritmo Fuzzy C-Means"
   ]
  },
  {
   "cell_type": "markdown",
   "id": "1cf86320",
   "metadata": {},
   "source": []
  },
  {
   "cell_type": "markdown",
   "id": "d6283c5f",
   "metadata": {},
   "source": [
    "#### Quiz - videoaula 13"
   ]
  },
  {
   "cell_type": "markdown",
   "id": "2ab0a913",
   "metadata": {},
   "source": []
  },
  {
   "cell_type": "markdown",
   "id": "324e940c",
   "metadata": {},
   "source": [
    "## Materiais de Apoio"
   ]
  },
  {
   "cell_type": "markdown",
   "id": "bc340dae",
   "metadata": {},
   "source": [
    "### "
   ]
  },
  {
   "cell_type": "markdown",
   "id": "96f0f80d",
   "metadata": {},
   "source": []
  },
  {
   "cell_type": "markdown",
   "id": "871833da",
   "metadata": {},
   "source": []
  },
  {
   "cell_type": "markdown",
   "id": "0330906e",
   "metadata": {},
   "source": [
    "## Quiz Objeto Educacional"
   ]
  },
  {
   "cell_type": "markdown",
   "id": "dabf6bbd",
   "metadata": {},
   "source": []
  },
  {
   "cell_type": "markdown",
   "id": "fb0a4fd0",
   "metadata": {},
   "source": [
    "## Exercício de Apoio"
   ]
  },
  {
   "cell_type": "markdown",
   "id": "83a95a5d",
   "metadata": {},
   "source": []
  },
  {
   "cell_type": "markdown",
   "id": "ee494bbc",
   "metadata": {},
   "source": [
    "## Aprofundando o Tema"
   ]
  },
  {
   "cell_type": "markdown",
   "id": "e5e5a65e",
   "metadata": {},
   "source": [
    "### Vídeo de apoio - DBSCAN Clustering"
   ]
  },
  {
   "cell_type": "markdown",
   "id": "59d1101b",
   "metadata": {},
   "source": [
    "### Texto de Apoio"
   ]
  },
  {
   "cell_type": "markdown",
   "id": "4600da07",
   "metadata": {},
   "source": []
  },
  {
   "cell_type": "markdown",
   "id": "c60ea133",
   "metadata": {},
   "source": [
    "## Atividade Avaliativa - Semana 5"
   ]
  },
  {
   "cell_type": "markdown",
   "id": "659d5fa9",
   "metadata": {},
   "source": []
  },
  {
   "cell_type": "markdown",
   "id": "43fa3771",
   "metadata": {},
   "source": [
    "## Em Síntese"
   ]
  },
  {
   "cell_type": "markdown",
   "id": "42316c9f",
   "metadata": {},
   "source": []
  },
  {
   "cell_type": "markdown",
   "id": "893b8ed5",
   "metadata": {},
   "source": []
  }
 ],
 "metadata": {
  "language_info": {
   "name": "python"
  }
 },
 "nbformat": 4,
 "nbformat_minor": 5
}
