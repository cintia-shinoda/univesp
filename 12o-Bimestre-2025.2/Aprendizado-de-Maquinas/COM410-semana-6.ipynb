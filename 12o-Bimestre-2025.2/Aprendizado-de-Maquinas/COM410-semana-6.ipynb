{
 "cells": [
  {
   "cell_type": "markdown",
   "id": "29c087c0",
   "metadata": {},
   "source": [
    "# Semana 6 - Algoritmos Genéticos"
   ]
  },
  {
   "cell_type": "markdown",
   "id": "47f94413",
   "metadata": {},
   "source": [
    "## Desafio"
   ]
  },
  {
   "cell_type": "markdown",
   "id": "92426682",
   "metadata": {},
   "source": []
  },
  {
   "cell_type": "markdown",
   "id": "808bd90c",
   "metadata": {},
   "source": [
    "## "
   ]
  },
  {
   "cell_type": "markdown",
   "id": "1238d8bb",
   "metadata": {},
   "source": [
    "### Texto-base 1"
   ]
  },
  {
   "cell_type": "markdown",
   "id": "4f921463",
   "metadata": {},
   "source": []
  },
  {
   "cell_type": "markdown",
   "id": "e0be53ba",
   "metadata": {},
   "source": [
    "### Texto-base 2"
   ]
  },
  {
   "cell_type": "markdown",
   "id": "c874aed5",
   "metadata": {},
   "source": []
  },
  {
   "cell_type": "markdown",
   "id": "d7614375",
   "metadata": {},
   "source": [
    "### Videoaula 14 - Algoritmos Genéticos"
   ]
  },
  {
   "cell_type": "markdown",
   "id": "6e4f2ef6",
   "metadata": {},
   "source": []
  },
  {
   "cell_type": "markdown",
   "id": "2b4b5cde",
   "metadata": {},
   "source": [
    "#### Quiz - videoaula 14"
   ]
  },
  {
   "cell_type": "markdown",
   "id": "a86c104d",
   "metadata": {},
   "source": []
  },
  {
   "cell_type": "markdown",
   "id": "de48d5a5",
   "metadata": {},
   "source": [
    "### Videoaula 15 - Algoritmos Genéticos - Implementação do problema do caixeiro viajante"
   ]
  },
  {
   "cell_type": "markdown",
   "id": "e8fcd91c",
   "metadata": {},
   "source": []
  },
  {
   "cell_type": "markdown",
   "id": "be36086e",
   "metadata": {},
   "source": [
    "#### Quiz - videoaula 15"
   ]
  },
  {
   "cell_type": "markdown",
   "id": "ccf52417",
   "metadata": {},
   "source": []
  },
  {
   "cell_type": "markdown",
   "id": "99a27702",
   "metadata": {},
   "source": [
    "### Exercício de Apoio"
   ]
  },
  {
   "cell_type": "markdown",
   "id": "500850e2",
   "metadata": {},
   "source": []
  },
  {
   "cell_type": "markdown",
   "id": "ed0d4984",
   "metadata": {},
   "source": [
    "### Quiz Objeto Educacional"
   ]
  },
  {
   "cell_type": "markdown",
   "id": "cbd2d7bf",
   "metadata": {},
   "source": []
  },
  {
   "cell_type": "markdown",
   "id": "71e8b6ae",
   "metadata": {},
   "source": [
    "## Aprofundando o Tema"
   ]
  },
  {
   "cell_type": "markdown",
   "id": "69506995",
   "metadata": {},
   "source": [
    "### Vídeo de apoio"
   ]
  },
  {
   "cell_type": "markdown",
   "id": "d2c98829",
   "metadata": {},
   "source": [
    "### Texto de Apoio"
   ]
  },
  {
   "cell_type": "markdown",
   "id": "b5053175",
   "metadata": {},
   "source": [
    "### Texto de Apoio"
   ]
  },
  {
   "cell_type": "markdown",
   "id": "efc378ae",
   "metadata": {},
   "source": []
  },
  {
   "cell_type": "markdown",
   "id": "007222f4",
   "metadata": {},
   "source": [
    "## Atividade Avaliativa - Semana 6"
   ]
  },
  {
   "cell_type": "markdown",
   "id": "d373acbf",
   "metadata": {},
   "source": []
  },
  {
   "cell_type": "markdown",
   "id": "49e5d207",
   "metadata": {},
   "source": [
    "## Em Síntese"
   ]
  },
  {
   "cell_type": "markdown",
   "id": "f5eb7702",
   "metadata": {},
   "source": []
  }
 ],
 "metadata": {
  "language_info": {
   "name": "python"
  }
 },
 "nbformat": 4,
 "nbformat_minor": 5
}
