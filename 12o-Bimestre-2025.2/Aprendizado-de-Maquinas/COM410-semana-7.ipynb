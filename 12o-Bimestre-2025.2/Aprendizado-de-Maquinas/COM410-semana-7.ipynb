{
 "cells": [
  {
   "cell_type": "markdown",
   "id": "4562db69",
   "metadata": {},
   "source": [
    "# Semana 7 - "
   ]
  }
 ],
 "metadata": {
  "language_info": {
   "name": "python"
  }
 },
 "nbformat": 4,
 "nbformat_minor": 5
}
