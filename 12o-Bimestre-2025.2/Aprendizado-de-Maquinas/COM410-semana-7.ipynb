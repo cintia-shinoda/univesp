{
 "cells": [
  {
   "cell_type": "markdown",
   "id": "4562db69",
   "metadata": {},
   "source": [
    "# Semana 7 - Estimação de Acurácia e Comparação de Modelos"
   ]
  },
  {
   "cell_type": "markdown",
   "id": "edb29b28",
   "metadata": {},
   "source": [
    "## Desafio"
   ]
  },
  {
   "cell_type": "markdown",
   "id": "79b829e6",
   "metadata": {},
   "source": []
  },
  {
   "cell_type": "markdown",
   "id": "b6c86e71",
   "metadata": {},
   "source": [
    "##"
   ]
  },
  {
   "cell_type": "markdown",
   "id": "80c74b04",
   "metadata": {},
   "source": [
    "### Texto-base 1"
   ]
  },
  {
   "cell_type": "markdown",
   "id": "ed930c32",
   "metadata": {},
   "source": []
  },
  {
   "cell_type": "markdown",
   "id": "5e090d90",
   "metadata": {},
   "source": [
    "### Videoaula 16 - Avaliação de Modelos Preditivos"
   ]
  },
  {
   "cell_type": "markdown",
   "id": "8e71f31f",
   "metadata": {},
   "source": []
  },
  {
   "cell_type": "markdown",
   "id": "03da12d6",
   "metadata": {},
   "source": [
    "#### Quiz - videoaula 16"
   ]
  },
  {
   "cell_type": "markdown",
   "id": "244c8ca5",
   "metadata": {},
   "source": []
  },
  {
   "cell_type": "markdown",
   "id": "320665ac",
   "metadata": {},
   "source": [
    "### Texto-base 2"
   ]
  },
  {
   "cell_type": "markdown",
   "id": "ee6e4d17",
   "metadata": {},
   "source": []
  },
  {
   "cell_type": "markdown",
   "id": "c163af79",
   "metadata": {},
   "source": [
    "### Videoaula 17 - Avaliação de Modelos Descritivos"
   ]
  },
  {
   "cell_type": "markdown",
   "id": "1c30efde",
   "metadata": {},
   "source": []
  },
  {
   "cell_type": "markdown",
   "id": "47546a5a",
   "metadata": {},
   "source": [
    "#### Quiz - videoaula 17"
   ]
  },
  {
   "cell_type": "markdown",
   "id": "f91804e5",
   "metadata": {},
   "source": []
  },
  {
   "cell_type": "markdown",
   "id": "fbd4de30",
   "metadata": {},
   "source": [
    "### Videoaula 18 - Comparação de Modelos Preditivos"
   ]
  },
  {
   "cell_type": "markdown",
   "id": "d58beec1",
   "metadata": {},
   "source": []
  },
  {
   "cell_type": "markdown",
   "id": "a46f8655",
   "metadata": {},
   "source": [
    "#### Quiz - videoaula 18"
   ]
  },
  {
   "cell_type": "markdown",
   "id": "f148af04",
   "metadata": {},
   "source": []
  },
  {
   "cell_type": "markdown",
   "id": "7a51b18d",
   "metadata": {},
   "source": [
    "## Material de Apoio"
   ]
  },
  {
   "cell_type": "markdown",
   "id": "6712c533",
   "metadata": {},
   "source": []
  },
  {
   "cell_type": "markdown",
   "id": "7b5437ba",
   "metadata": {},
   "source": [
    "## Quiz Objeto Educacional"
   ]
  },
  {
   "cell_type": "markdown",
   "id": "df165b4d",
   "metadata": {},
   "source": []
  },
  {
   "cell_type": "markdown",
   "id": "1d7fe067",
   "metadata": {},
   "source": [
    "## Exercício de Apoio"
   ]
  },
  {
   "cell_type": "markdown",
   "id": "af75d308",
   "metadata": {},
   "source": []
  },
  {
   "cell_type": "markdown",
   "id": "fda22040",
   "metadata": {},
   "source": [
    "## Aprofundando o Tema"
   ]
  },
  {
   "cell_type": "markdown",
   "id": "3eccccef",
   "metadata": {},
   "source": [
    "### Vídeo de Apoio"
   ]
  },
  {
   "cell_type": "markdown",
   "id": "74dcbedd",
   "metadata": {},
   "source": []
  },
  {
   "cell_type": "markdown",
   "id": "fd10c57d",
   "metadata": {},
   "source": [
    "### Texto de apoio"
   ]
  },
  {
   "cell_type": "markdown",
   "id": "9b2db4ee",
   "metadata": {},
   "source": []
  },
  {
   "cell_type": "markdown",
   "id": "070df7ae",
   "metadata": {},
   "source": [
    "### Texto de Apoio"
   ]
  },
  {
   "cell_type": "markdown",
   "id": "e334ecec",
   "metadata": {},
   "source": []
  },
  {
   "cell_type": "markdown",
   "id": "a8153076",
   "metadata": {},
   "source": [
    "## Atividade Avaliativa - Semana 7"
   ]
  },
  {
   "cell_type": "markdown",
   "id": "4bec6bb3",
   "metadata": {},
   "source": []
  },
  {
   "cell_type": "markdown",
   "id": "7ce1176c",
   "metadata": {},
   "source": [
    "## Em Síntese"
   ]
  },
  {
   "cell_type": "markdown",
   "id": "9d94d910",
   "metadata": {},
   "source": []
  }
 ],
 "metadata": {
  "language_info": {
   "name": "python"
  }
 },
 "nbformat": 4,
 "nbformat_minor": 5
}
