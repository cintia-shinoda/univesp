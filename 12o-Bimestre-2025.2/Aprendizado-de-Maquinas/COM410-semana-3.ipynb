{
 "cells": [
  {
   "cell_type": "markdown",
   "id": "4c08700b",
   "metadata": {},
   "source": [
    "# Semana 3 - Algoritmos Probabilísticos"
   ]
  },
  {
   "cell_type": "markdown",
   "id": "eb84ba2f",
   "metadata": {},
   "source": [
    "## Desafio"
   ]
  },
  {
   "cell_type": "markdown",
   "id": "ca5082f5",
   "metadata": {},
   "source": []
  },
  {
   "cell_type": "markdown",
   "id": "8136f1a7",
   "metadata": {},
   "source": [
    "## Revisitando Conhecimentos"
   ]
  },
  {
   "cell_type": "markdown",
   "id": "f9f88a3e",
   "metadata": {},
   "source": [
    "### Material de apoio: Teoremas de Probabilidade | Univesp"
   ]
  },
  {
   "cell_type": "markdown",
   "id": "2227d6ad",
   "metadata": {},
   "source": []
  },
  {
   "cell_type": "markdown",
   "id": "d54934d0",
   "metadata": {},
   "source": [
    "##"
   ]
  },
  {
   "cell_type": "markdown",
   "id": "b7ee2c2f",
   "metadata": {},
   "source": [
    "### Texto-base 1"
   ]
  },
  {
   "cell_type": "markdown",
   "id": "e3220ed1",
   "metadata": {},
   "source": []
  },
  {
   "cell_type": "markdown",
   "id": "d73c4656",
   "metadata": {},
   "source": [
    "### Videoaula 6 - Aprendizado Probabilístico"
   ]
  },
  {
   "cell_type": "markdown",
   "id": "5ab878dd",
   "metadata": {},
   "source": []
  },
  {
   "cell_type": "markdown",
   "id": "4b9eb47b",
   "metadata": {},
   "source": [
    "#### Quiz - videoaula 6"
   ]
  },
  {
   "cell_type": "markdown",
   "id": "699bc2aa",
   "metadata": {},
   "source": []
  },
  {
   "cell_type": "markdown",
   "id": "aebda2b8",
   "metadata": {},
   "source": [
    "### Texto-base 2"
   ]
  },
  {
   "cell_type": "markdown",
   "id": "7de94c9d",
   "metadata": {},
   "source": []
  },
  {
   "cell_type": "markdown",
   "id": "b75e202a",
   "metadata": {},
   "source": [
    "### Videoaula 7 - Redes Bayesianas para Classificação"
   ]
  },
  {
   "cell_type": "markdown",
   "id": "13ac9550",
   "metadata": {},
   "source": []
  },
  {
   "cell_type": "markdown",
   "id": "36fcea71",
   "metadata": {},
   "source": [
    "#### Quiz - videoaula 7"
   ]
  },
  {
   "cell_type": "markdown",
   "id": "67d83060",
   "metadata": {},
   "source": []
  },
  {
   "cell_type": "markdown",
   "id": "73bbea23",
   "metadata": {},
   "source": [
    "### Videoaula 8 - Aplicações do Algoritmo Naive-Bayes"
   ]
  },
  {
   "cell_type": "markdown",
   "id": "5f999317",
   "metadata": {},
   "source": []
  },
  {
   "cell_type": "markdown",
   "id": "499a18e9",
   "metadata": {},
   "source": [
    "#### Quiz - videoaula 8"
   ]
  },
  {
   "cell_type": "markdown",
   "id": "f2a7bbcc",
   "metadata": {},
   "source": []
  },
  {
   "cell_type": "markdown",
   "id": "fcc8cf34",
   "metadata": {},
   "source": [
    "### Materiais de Apoio"
   ]
  },
  {
   "cell_type": "markdown",
   "id": "c841ef00",
   "metadata": {},
   "source": []
  },
  {
   "cell_type": "markdown",
   "id": "e2052e34",
   "metadata": {},
   "source": [
    "## Quiz Objeto Educacional"
   ]
  },
  {
   "cell_type": "markdown",
   "id": "5fd8ab77",
   "metadata": {},
   "source": []
  },
  {
   "cell_type": "markdown",
   "id": "879b1546",
   "metadata": {},
   "source": [
    "## Exercício de Apoio"
   ]
  },
  {
   "cell_type": "markdown",
   "id": "d41c2ad4",
   "metadata": {},
   "source": []
  },
  {
   "cell_type": "markdown",
   "id": "40cee92a",
   "metadata": {},
   "source": [
    "## Aprofundando o Tema"
   ]
  },
  {
   "cell_type": "markdown",
   "id": "21543519",
   "metadata": {},
   "source": [
    "### Texto de apoio"
   ]
  },
  {
   "cell_type": "markdown",
   "id": "098433a4",
   "metadata": {},
   "source": []
  },
  {
   "cell_type": "markdown",
   "id": "0e547b3d",
   "metadata": {},
   "source": [
    "### Texto de apoio"
   ]
  },
  {
   "cell_type": "markdown",
   "id": "fc72dfc2",
   "metadata": {},
   "source": []
  },
  {
   "cell_type": "markdown",
   "id": "0e34ba15",
   "metadata": {},
   "source": [
    "### Vídeo de apoio"
   ]
  },
  {
   "cell_type": "markdown",
   "id": "c15f0dc6",
   "metadata": {},
   "source": []
  },
  {
   "cell_type": "markdown",
   "id": "feb4097c",
   "metadata": {},
   "source": [
    "## Atividade Avaliativa - Semana 3"
   ]
  },
  {
   "cell_type": "markdown",
   "id": "bc47fc35",
   "metadata": {},
   "source": []
  },
  {
   "cell_type": "markdown",
   "id": "990af1e8",
   "metadata": {},
   "source": [
    "## Em Síntese"
   ]
  },
  {
   "cell_type": "markdown",
   "id": "9434756a",
   "metadata": {},
   "source": []
  },
  {
   "cell_type": "markdown",
   "id": "f055c1fe",
   "metadata": {},
   "source": []
  }
 ],
 "metadata": {
  "language_info": {
   "name": "python"
  }
 },
 "nbformat": 4,
 "nbformat_minor": 5
}
