{
 "cells": [
  {
   "cell_type": "markdown",
   "id": "44ec27b2",
   "metadata": {},
   "source": [
    "# Semana 5 - Aprendizado de Máquina"
   ]
  },
  {
   "cell_type": "markdown",
   "id": "7a8c4375",
   "metadata": {},
   "source": [
    "## Desafio"
   ]
  },
  {
   "cell_type": "markdown",
   "id": "c6834873",
   "metadata": {},
   "source": []
  },
  {
   "cell_type": "markdown",
   "id": "ddfb7e49",
   "metadata": {},
   "source": [
    "##"
   ]
  },
  {
   "cell_type": "markdown",
   "id": "38539b68",
   "metadata": {},
   "source": []
  },
  {
   "cell_type": "markdown",
   "id": "c60f5b1b",
   "metadata": {},
   "source": [
    "### Texto-base 1"
   ]
  },
  {
   "cell_type": "markdown",
   "id": "6b35631c",
   "metadata": {},
   "source": []
  },
  {
   "cell_type": "markdown",
   "id": "7582d5bc",
   "metadata": {},
   "source": [
    "### Texto-base 2"
   ]
  },
  {
   "cell_type": "markdown",
   "id": "4417cae7",
   "metadata": {},
   "source": []
  },
  {
   "cell_type": "markdown",
   "id": "d89b2c6b",
   "metadata": {},
   "source": [
    "### Texto-base 3"
   ]
  },
  {
   "cell_type": "markdown",
   "id": "12296652",
   "metadata": {},
   "source": []
  },
  {
   "cell_type": "markdown",
   "id": "0a81d4f0",
   "metadata": {},
   "source": [
    "### Texto-base 4"
   ]
  },
  {
   "cell_type": "markdown",
   "id": "aa24955d",
   "metadata": {},
   "source": []
  },
  {
   "cell_type": "markdown",
   "id": "e54695a8",
   "metadata": {},
   "source": [
    "### Videoaula 13 - Introdução ao Aprendizado de Máquina"
   ]
  },
  {
   "cell_type": "markdown",
   "id": "b501fca5",
   "metadata": {},
   "source": []
  },
  {
   "cell_type": "markdown",
   "id": "bba0d764",
   "metadata": {},
   "source": [
    "#### Quiz - videoaula 13"
   ]
  },
  {
   "cell_type": "markdown",
   "id": "62a655a3",
   "metadata": {},
   "source": []
  },
  {
   "cell_type": "markdown",
   "id": "841fa692",
   "metadata": {},
   "source": [
    "### Videoaula 14 - Aprendizado Bayesiano"
   ]
  },
  {
   "cell_type": "markdown",
   "id": "3bd0fff6",
   "metadata": {},
   "source": []
  },
  {
   "cell_type": "markdown",
   "id": "6b929d04",
   "metadata": {},
   "source": [
    "#### Quiz - videoaula 14"
   ]
  },
  {
   "cell_type": "markdown",
   "id": "51b97240",
   "metadata": {},
   "source": []
  },
  {
   "cell_type": "markdown",
   "id": "57c53a5a",
   "metadata": {},
   "source": [
    "### Videoaula 15 - Prática: Aprendizado de Máquina"
   ]
  },
  {
   "cell_type": "markdown",
   "id": "23c967f7",
   "metadata": {},
   "source": []
  },
  {
   "cell_type": "markdown",
   "id": "4945fb3f",
   "metadata": {},
   "source": [
    "#### Quiz - videoaula 15"
   ]
  },
  {
   "cell_type": "markdown",
   "id": "3c9889f5",
   "metadata": {},
   "source": []
  },
  {
   "cell_type": "markdown",
   "id": "796a44d0",
   "metadata": {},
   "source": [
    "## Quiz Objeto Educacional"
   ]
  },
  {
   "cell_type": "markdown",
   "id": "5bfc59de",
   "metadata": {},
   "source": []
  },
  {
   "cell_type": "markdown",
   "id": "f61ef855",
   "metadata": {},
   "source": [
    "## Aprofundando o Tema"
   ]
  },
  {
   "cell_type": "markdown",
   "id": "9a27d6a2",
   "metadata": {},
   "source": [
    "### Material de apoio 1"
   ]
  },
  {
   "cell_type": "markdown",
   "id": "f6ebd916",
   "metadata": {},
   "source": []
  },
  {
   "cell_type": "markdown",
   "id": "58fb1c2d",
   "metadata": {},
   "source": [
    "### Material de apoio 2"
   ]
  },
  {
   "cell_type": "markdown",
   "id": "1164183d",
   "metadata": {},
   "source": []
  },
  {
   "cell_type": "markdown",
   "id": "052ecc31",
   "metadata": {},
   "source": [
    "## Atividade Avaliativa - Semana 5"
   ]
  },
  {
   "cell_type": "markdown",
   "id": "b6261dde",
   "metadata": {},
   "source": []
  },
  {
   "cell_type": "markdown",
   "id": "dfdcaddb",
   "metadata": {},
   "source": [
    "## Em Síntese"
   ]
  },
  {
   "cell_type": "markdown",
   "id": "eaee02f3",
   "metadata": {},
   "source": []
  },
  {
   "cell_type": "markdown",
   "id": "50696e6e",
   "metadata": {},
   "source": []
  }
 ],
 "metadata": {
  "language_info": {
   "name": "python"
  }
 },
 "nbformat": 4,
 "nbformat_minor": 5
}
