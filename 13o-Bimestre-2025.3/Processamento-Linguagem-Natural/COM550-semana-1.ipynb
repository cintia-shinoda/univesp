{
 "cells": [
  {
   "cell_type": "markdown",
   "id": "e5078dbf",
   "metadata": {},
   "source": [
    "# Semana 1 - Introdução ao Processamento de Linguagem Natural"
   ]
  },
  {
   "cell_type": "markdown",
   "id": "e09eade1",
   "metadata": {},
   "source": [
    "## Desafio"
   ]
  },
  {
   "cell_type": "markdown",
   "id": "04ced4cf",
   "metadata": {},
   "source": []
  },
  {
   "cell_type": "markdown",
   "id": "53918ce9",
   "metadata": {},
   "source": [
    "## Revisitando Conhecimentos"
   ]
  },
  {
   "cell_type": "markdown",
   "id": "546660c0",
   "metadata": {},
   "source": [
    "### Vídeo de apoio"
   ]
  },
  {
   "cell_type": "markdown",
   "id": "c9daca38",
   "metadata": {},
   "source": []
  },
  {
   "cell_type": "markdown",
   "id": "f1bcb30a",
   "metadata": {},
   "source": [
    "### Vídeo de apoio"
   ]
  },
  {
   "cell_type": "markdown",
   "id": "05cb20fb",
   "metadata": {},
   "source": []
  },
  {
   "cell_type": "markdown",
   "id": "0649de5a",
   "metadata": {},
   "source": [
    "### Vídeo de apoio"
   ]
  },
  {
   "cell_type": "markdown",
   "id": "7fb314df",
   "metadata": {},
   "source": []
  },
  {
   "cell_type": "markdown",
   "id": "d538d8ff",
   "metadata": {},
   "source": [
    "## Material-base"
   ]
  },
  {
   "cell_type": "markdown",
   "id": "e558c3c7",
   "metadata": {},
   "source": [
    "### Texto-base 1"
   ]
  },
  {
   "cell_type": "markdown",
   "id": "01d0ebc2",
   "metadata": {},
   "source": []
  },
  {
   "cell_type": "markdown",
   "id": "f6ec53b3",
   "metadata": {},
   "source": [
    "### Videoaula 1 - Introdução ao Processamento de Linguagem Natural"
   ]
  },
  {
   "cell_type": "markdown",
   "id": "c5cb454a",
   "metadata": {},
   "source": []
  },
  {
   "cell_type": "markdown",
   "id": "a8fc5473",
   "metadata": {},
   "source": [
    "#### Quiz - videoaula 1"
   ]
  },
  {
   "cell_type": "markdown",
   "id": "b4ba04e7",
   "metadata": {},
   "source": []
  },
  {
   "cell_type": "markdown",
   "id": "da605497",
   "metadata": {},
   "source": [
    "### Texto-base 1"
   ]
  },
  {
   "cell_type": "markdown",
   "id": "5aa4f785",
   "metadata": {},
   "source": []
  },
  {
   "cell_type": "markdown",
   "id": "a288c39d",
   "metadata": {},
   "source": [
    "### Texto-base 3"
   ]
  },
  {
   "cell_type": "markdown",
   "id": "a148017a",
   "metadata": {},
   "source": []
  },
  {
   "cell_type": "markdown",
   "id": "1f169230",
   "metadata": {},
   "source": [
    "### Videoaula 2 - Sequências de caracteres, tokens e palavras"
   ]
  },
  {
   "cell_type": "markdown",
   "id": "b3ff00d9",
   "metadata": {},
   "source": []
  },
  {
   "cell_type": "markdown",
   "id": "40323981",
   "metadata": {},
   "source": [
    "#### Quiz - videoaula 2"
   ]
  },
  {
   "cell_type": "markdown",
   "id": "0fd55790",
   "metadata": {},
   "source": []
  },
  {
   "cell_type": "markdown",
   "id": "aee51db8",
   "metadata": {},
   "source": [
    "### Videoaula 3 - Introdução ao PLN usando Python"
   ]
  },
  {
   "cell_type": "markdown",
   "id": "e7805557",
   "metadata": {},
   "source": []
  },
  {
   "cell_type": "markdown",
   "id": "4a31bc36",
   "metadata": {},
   "source": [
    "#### Quiz - videoaula 3"
   ]
  },
  {
   "cell_type": "markdown",
   "id": "4609626f",
   "metadata": {},
   "source": []
  },
  {
   "cell_type": "markdown",
   "id": "dc9db808",
   "metadata": {},
   "source": [
    "## Quiz Objeto Educacional"
   ]
  },
  {
   "cell_type": "markdown",
   "id": "7479be53",
   "metadata": {},
   "source": []
  },
  {
   "cell_type": "markdown",
   "id": "cee3372d",
   "metadata": {},
   "source": [
    "## Aprofundando o tema"
   ]
  },
  {
   "cell_type": "markdown",
   "id": "d701f266",
   "metadata": {},
   "source": [
    "### Material de apoio 1"
   ]
  },
  {
   "cell_type": "markdown",
   "id": "14ec2ab9",
   "metadata": {},
   "source": []
  },
  {
   "cell_type": "markdown",
   "id": "6ecc35e0",
   "metadata": {},
   "source": [
    "### Material de apoio 2"
   ]
  },
  {
   "cell_type": "markdown",
   "id": "1095c93e",
   "metadata": {},
   "source": []
  },
  {
   "cell_type": "markdown",
   "id": "a2576c31",
   "metadata": {},
   "source": [
    "### Material de apoio 3"
   ]
  },
  {
   "cell_type": "markdown",
   "id": "ca249323",
   "metadata": {},
   "source": []
  },
  {
   "cell_type": "markdown",
   "id": "3e76602e",
   "metadata": {},
   "source": [
    "## Atividade Avaliativa"
   ]
  },
  {
   "cell_type": "markdown",
   "id": "30559609",
   "metadata": {},
   "source": []
  },
  {
   "cell_type": "markdown",
   "id": "a51a5eb4",
   "metadata": {},
   "source": [
    "## Em Síntese"
   ]
  },
  {
   "cell_type": "markdown",
   "id": "d60b7abd",
   "metadata": {},
   "source": []
  }
 ],
 "metadata": {
  "language_info": {
   "name": "python"
  }
 },
 "nbformat": 4,
 "nbformat_minor": 5
}
