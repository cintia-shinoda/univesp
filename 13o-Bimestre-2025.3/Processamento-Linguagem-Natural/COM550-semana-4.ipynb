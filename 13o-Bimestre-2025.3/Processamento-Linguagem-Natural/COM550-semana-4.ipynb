{
 "cells": [
  {
   "cell_type": "markdown",
   "id": "fb39eaa2",
   "metadata": {},
   "source": [
    "# Semana 4 - Embeddings"
   ]
  },
  {
   "cell_type": "markdown",
   "id": "3024f6f7",
   "metadata": {},
   "source": [
    "## Desafio"
   ]
  },
  {
   "cell_type": "markdown",
   "id": "01d150dd",
   "metadata": {},
   "source": []
  },
  {
   "cell_type": "markdown",
   "id": "bb3202da",
   "metadata": {},
   "source": [
    "##"
   ]
  },
  {
   "cell_type": "markdown",
   "id": "e62e4f9a",
   "metadata": {},
   "source": [
    "### Texto-base 1"
   ]
  },
  {
   "cell_type": "markdown",
   "id": "6a624e43",
   "metadata": {},
   "source": []
  },
  {
   "cell_type": "markdown",
   "id": "83d0bc29",
   "metadata": {},
   "source": [
    "### Videoaula 10 - Modelagem de tópicos"
   ]
  },
  {
   "cell_type": "markdown",
   "id": "9576dd2c",
   "metadata": {},
   "source": []
  },
  {
   "cell_type": "markdown",
   "id": "7c7b6453",
   "metadata": {},
   "source": [
    "#### Quiz - videoaula 10"
   ]
  },
  {
   "cell_type": "markdown",
   "id": "e9d34204",
   "metadata": {},
   "source": []
  },
  {
   "cell_type": "markdown",
   "id": "760be48f",
   "metadata": {},
   "source": [
    "### Texto-base 2"
   ]
  },
  {
   "cell_type": "markdown",
   "id": "e64d55a4",
   "metadata": {},
   "source": []
  },
  {
   "cell_type": "markdown",
   "id": "5eb17cdf",
   "metadata": {},
   "source": [
    "### Videoaula 11 - Embeddings"
   ]
  },
  {
   "cell_type": "markdown",
   "id": "ba67fe3f",
   "metadata": {},
   "source": []
  },
  {
   "cell_type": "markdown",
   "id": "7a3bcb37",
   "metadata": {},
   "source": [
    "#### Quiz - videoaula 11"
   ]
  },
  {
   "cell_type": "markdown",
   "id": "de6c5c50",
   "metadata": {},
   "source": []
  },
  {
   "cell_type": "markdown",
   "id": "277e1913",
   "metadata": {},
   "source": [
    "### Videoaula 12 - Prática: Embeddings"
   ]
  },
  {
   "cell_type": "markdown",
   "id": "ada52ba4",
   "metadata": {},
   "source": []
  },
  {
   "cell_type": "markdown",
   "id": "95ebc134",
   "metadata": {},
   "source": [
    "#### Quiz - videoaula 12"
   ]
  },
  {
   "cell_type": "markdown",
   "id": "a44e7f41",
   "metadata": {},
   "source": []
  },
  {
   "cell_type": "markdown",
   "id": "106433c6",
   "metadata": {},
   "source": [
    "## Quiz Objeto Educacional"
   ]
  },
  {
   "cell_type": "markdown",
   "id": "77423728",
   "metadata": {},
   "source": []
  },
  {
   "cell_type": "markdown",
   "id": "693e03bc",
   "metadata": {},
   "source": [
    "## Aprofundando o Tema"
   ]
  },
  {
   "cell_type": "markdown",
   "id": "10018097",
   "metadata": {},
   "source": [
    "### Material de apoio 1"
   ]
  },
  {
   "cell_type": "markdown",
   "id": "dd9bd301",
   "metadata": {},
   "source": []
  },
  {
   "cell_type": "markdown",
   "id": "0ac5997f",
   "metadata": {},
   "source": [
    "### Material de apoio 2"
   ]
  },
  {
   "cell_type": "markdown",
   "id": "a9d8d151",
   "metadata": {},
   "source": []
  },
  {
   "cell_type": "markdown",
   "id": "37fbe9ef",
   "metadata": {},
   "source": [
    "### Material de apoio 3"
   ]
  },
  {
   "cell_type": "markdown",
   "id": "d49f01ed",
   "metadata": {},
   "source": []
  },
  {
   "cell_type": "markdown",
   "id": "39205bbc",
   "metadata": {},
   "source": [
    "## Atividade Avaliativa - Semana 4"
   ]
  },
  {
   "cell_type": "markdown",
   "id": "8cdaabb2",
   "metadata": {},
   "source": []
  },
  {
   "cell_type": "markdown",
   "id": "14473651",
   "metadata": {},
   "source": [
    "## Em Síntese"
   ]
  },
  {
   "cell_type": "markdown",
   "id": "70f3aebb",
   "metadata": {},
   "source": []
  }
 ],
 "metadata": {
  "language_info": {
   "name": "python"
  }
 },
 "nbformat": 4,
 "nbformat_minor": 5
}
