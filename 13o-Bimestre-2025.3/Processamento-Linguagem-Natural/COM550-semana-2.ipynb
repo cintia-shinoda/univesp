{
 "cells": [
  {
   "cell_type": "markdown",
   "id": "748ff8a4",
   "metadata": {},
   "source": [
    "# Semana 2 - Corpus e Similaridade Textual"
   ]
  },
  {
   "cell_type": "markdown",
   "id": "d3134ac5",
   "metadata": {},
   "source": [
    "## Desafio"
   ]
  },
  {
   "cell_type": "markdown",
   "id": "f115f9b8",
   "metadata": {},
   "source": []
  },
  {
   "cell_type": "markdown",
   "id": "2fb99d77",
   "metadata": {},
   "source": [
    "## Revisitando Conhecimentos"
   ]
  },
  {
   "cell_type": "markdown",
   "id": "fd752416",
   "metadata": {},
   "source": [
    "### Vídeo de apoio"
   ]
  },
  {
   "cell_type": "markdown",
   "id": "bc2fc442",
   "metadata": {},
   "source": [
    "https://youtu.be/gB5duOl6ovk"
   ]
  },
  {
   "cell_type": "markdown",
   "id": "79669907",
   "metadata": {},
   "source": []
  },
  {
   "cell_type": "markdown",
   "id": "90f2090b",
   "metadata": {},
   "source": [
    "##"
   ]
  },
  {
   "cell_type": "markdown",
   "id": "67c4c78c",
   "metadata": {},
   "source": [
    "### Texto-base 1"
   ]
  },
  {
   "cell_type": "markdown",
   "id": "8448a74c",
   "metadata": {},
   "source": []
  },
  {
   "cell_type": "markdown",
   "id": "21649125",
   "metadata": {},
   "source": [
    "### Videoaula 4 - Corpus"
   ]
  },
  {
   "cell_type": "markdown",
   "id": "6667ebec",
   "metadata": {},
   "source": []
  },
  {
   "cell_type": "markdown",
   "id": "29762f72",
   "metadata": {},
   "source": [
    "#### Quiz - videoaula 4"
   ]
  },
  {
   "cell_type": "markdown",
   "id": "08e4edce",
   "metadata": {},
   "source": []
  },
  {
   "cell_type": "markdown",
   "id": "2b219b83",
   "metadata": {},
   "source": [
    "### Texto-base 2"
   ]
  },
  {
   "cell_type": "markdown",
   "id": "430f935e",
   "metadata": {},
   "source": []
  },
  {
   "cell_type": "markdown",
   "id": "72c0a1cd",
   "metadata": {},
   "source": [
    "### Videoaula 5 - Similaridade Textual"
   ]
  },
  {
   "cell_type": "markdown",
   "id": "33146d5b",
   "metadata": {},
   "source": []
  },
  {
   "cell_type": "markdown",
   "id": "aefd63e5",
   "metadata": {},
   "source": [
    "#### Quiz - videoaula 5"
   ]
  },
  {
   "cell_type": "markdown",
   "id": "6df4af8a",
   "metadata": {},
   "source": []
  },
  {
   "cell_type": "markdown",
   "id": "f3d1e62b",
   "metadata": {},
   "source": [
    "### Videoaula 6 - Prática: Corpus e Similaridade Textual"
   ]
  },
  {
   "cell_type": "markdown",
   "id": "9a9d42e0",
   "metadata": {},
   "source": []
  },
  {
   "cell_type": "markdown",
   "id": "221b77b9",
   "metadata": {},
   "source": [
    "#### Quiz - videoaula 6"
   ]
  },
  {
   "cell_type": "markdown",
   "id": "9b4b9ba0",
   "metadata": {},
   "source": []
  },
  {
   "cell_type": "markdown",
   "id": "2ff3c81c",
   "metadata": {},
   "source": [
    "## Quiz Objeto Educacional"
   ]
  },
  {
   "cell_type": "markdown",
   "id": "eced3c58",
   "metadata": {},
   "source": []
  },
  {
   "cell_type": "markdown",
   "id": "58a6afbf",
   "metadata": {},
   "source": [
    "## Aprofundando o tema"
   ]
  },
  {
   "cell_type": "markdown",
   "id": "2926ba1f",
   "metadata": {},
   "source": [
    "### Material de apoio 1"
   ]
  },
  {
   "cell_type": "markdown",
   "id": "c2381a16",
   "metadata": {},
   "source": []
  },
  {
   "cell_type": "markdown",
   "id": "5f1314f1",
   "metadata": {},
   "source": [
    "### Material de apoio 2"
   ]
  },
  {
   "cell_type": "markdown",
   "id": "ec1d0f4d",
   "metadata": {},
   "source": []
  },
  {
   "cell_type": "markdown",
   "id": "62a54d8c",
   "metadata": {},
   "source": [
    "## Atividade Avaliativa - Semana 1"
   ]
  },
  {
   "cell_type": "markdown",
   "id": "26d6cc12",
   "metadata": {},
   "source": []
  },
  {
   "cell_type": "markdown",
   "id": "a2aa845e",
   "metadata": {},
   "source": []
  },
  {
   "cell_type": "markdown",
   "id": "d404b753",
   "metadata": {},
   "source": [
    "## Em Síntese"
   ]
  },
  {
   "cell_type": "markdown",
   "id": "4ca668a2",
   "metadata": {},
   "source": []
  }
 ],
 "metadata": {
  "language_info": {
   "name": "python"
  }
 },
 "nbformat": 4,
 "nbformat_minor": 5
}
