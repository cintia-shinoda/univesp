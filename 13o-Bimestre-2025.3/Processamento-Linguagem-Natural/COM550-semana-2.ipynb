{
 "cells": [
  {
   "cell_type": "markdown",
   "id": "748ff8a4",
   "metadata": {},
   "source": [
    "# Semana 2 - "
   ]
  }
 ],
 "metadata": {
  "language_info": {
   "name": "python"
  }
 },
 "nbformat": 4,
 "nbformat_minor": 5
}
