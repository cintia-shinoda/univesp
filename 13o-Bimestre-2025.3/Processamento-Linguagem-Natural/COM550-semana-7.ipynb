{
 "cells": [
  {
   "cell_type": "markdown",
   "id": "130b8e96",
   "metadata": {},
   "source": [
    "# Semana 7 - Análise de Sentimentos"
   ]
  },
  {
   "cell_type": "markdown",
   "id": "1c84f10b",
   "metadata": {},
   "source": [
    "## Desafio"
   ]
  },
  {
   "cell_type": "markdown",
   "id": "37571a0a",
   "metadata": {},
   "source": []
  },
  {
   "cell_type": "markdown",
   "id": "dcfe4aa6",
   "metadata": {},
   "source": [
    "## Material-base"
   ]
  },
  {
   "cell_type": "markdown",
   "id": "e9d28750",
   "metadata": {},
   "source": []
  },
  {
   "cell_type": "markdown",
   "id": "c9a174b7",
   "metadata": {},
   "source": [
    "##"
   ]
  },
  {
   "cell_type": "markdown",
   "id": "861ff193",
   "metadata": {},
   "source": []
  },
  {
   "cell_type": "markdown",
   "id": "96c62201",
   "metadata": {},
   "source": [
    "### Videoaula 19 - Similaridade Semântica"
   ]
  },
  {
   "cell_type": "markdown",
   "id": "a8665ff3",
   "metadata": {},
   "source": []
  },
  {
   "cell_type": "markdown",
   "id": "a580af0b",
   "metadata": {},
   "source": [
    "#### Quiz - videoaula 19"
   ]
  },
  {
   "cell_type": "markdown",
   "id": "a4b9460c",
   "metadata": {},
   "source": [
    "### "
   ]
  },
  {
   "cell_type": "markdown",
   "id": "787ff5c3",
   "metadata": {},
   "source": [
    "## Material-base 2"
   ]
  },
  {
   "cell_type": "markdown",
   "id": "8061df04",
   "metadata": {},
   "source": [
    "### Texto-base 2"
   ]
  },
  {
   "cell_type": "markdown",
   "id": "b0924f5e",
   "metadata": {},
   "source": []
  },
  {
   "cell_type": "markdown",
   "id": "2406baed",
   "metadata": {},
   "source": [
    "### Texto-base 3"
   ]
  },
  {
   "cell_type": "markdown",
   "id": "137dc399",
   "metadata": {},
   "source": []
  },
  {
   "cell_type": "markdown",
   "id": "4200359f",
   "metadata": {},
   "source": [
    "##"
   ]
  },
  {
   "cell_type": "markdown",
   "id": "dc2a13eb",
   "metadata": {},
   "source": [
    "### Videoaula 20 - Análise de Sentimentos"
   ]
  },
  {
   "cell_type": "markdown",
   "id": "0b2a6bf2",
   "metadata": {},
   "source": []
  },
  {
   "cell_type": "markdown",
   "id": "b4f9c132",
   "metadata": {},
   "source": [
    "#### Quiz - videoaula 20"
   ]
  },
  {
   "cell_type": "markdown",
   "id": "1b303420",
   "metadata": {},
   "source": []
  },
  {
   "cell_type": "markdown",
   "id": "c62347b1",
   "metadata": {},
   "source": [
    "### Videoaula 21 - Prática: Análise de Sentimentos"
   ]
  },
  {
   "cell_type": "markdown",
   "id": "93ea0345",
   "metadata": {},
   "source": []
  },
  {
   "cell_type": "markdown",
   "id": "e0ab028f",
   "metadata": {},
   "source": [
    "#### Quiz - videoaula 21"
   ]
  },
  {
   "cell_type": "markdown",
   "id": "1a7ce5de",
   "metadata": {},
   "source": []
  },
  {
   "cell_type": "markdown",
   "id": "0b82eb18",
   "metadata": {},
   "source": [
    "## Quiz Objeto Educacional"
   ]
  },
  {
   "cell_type": "markdown",
   "id": "e5340e7b",
   "metadata": {},
   "source": []
  },
  {
   "cell_type": "markdown",
   "id": "25aae66a",
   "metadata": {},
   "source": [
    "## Aprofundando o Tema"
   ]
  },
  {
   "cell_type": "markdown",
   "id": "38d44c62",
   "metadata": {},
   "source": [
    "### Material de Apoio 1"
   ]
  },
  {
   "cell_type": "markdown",
   "id": "9ba601b1",
   "metadata": {},
   "source": []
  },
  {
   "cell_type": "markdown",
   "id": "bf6cd55d",
   "metadata": {},
   "source": [
    "### Material de Apoio 2"
   ]
  },
  {
   "cell_type": "markdown",
   "id": "26eb67de",
   "metadata": {},
   "source": []
  },
  {
   "cell_type": "markdown",
   "id": "174011c3",
   "metadata": {},
   "source": [
    "## Atividade Avaliativa - Semana 7"
   ]
  },
  {
   "cell_type": "markdown",
   "id": "c800daa6",
   "metadata": {},
   "source": []
  },
  {
   "cell_type": "markdown",
   "id": "859dd1e9",
   "metadata": {},
   "source": [
    "## Em Síntese"
   ]
  },
  {
   "cell_type": "markdown",
   "id": "d5c68db3",
   "metadata": {},
   "source": []
  },
  {
   "cell_type": "markdown",
   "id": "78e70428",
   "metadata": {},
   "source": []
  }
 ],
 "metadata": {
  "language_info": {
   "name": "python"
  }
 },
 "nbformat": 4,
 "nbformat_minor": 5
}
