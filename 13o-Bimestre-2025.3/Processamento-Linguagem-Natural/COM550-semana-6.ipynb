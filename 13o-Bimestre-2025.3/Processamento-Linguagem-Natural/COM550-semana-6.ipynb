{
 "cells": [
  {
   "cell_type": "markdown",
   "id": "912e9c07",
   "metadata": {},
   "source": [
    "# Semana 6 - Classificação de Textos"
   ]
  },
  {
   "cell_type": "markdown",
   "id": "8ccc7f27",
   "metadata": {},
   "source": [
    "## Desafio"
   ]
  },
  {
   "cell_type": "markdown",
   "id": "3ff6874c",
   "metadata": {},
   "source": []
  },
  {
   "cell_type": "markdown",
   "id": "caff4da2",
   "metadata": {},
   "source": [
    "## Material-base"
   ]
  },
  {
   "cell_type": "markdown",
   "id": "809b0602",
   "metadata": {},
   "source": [
    "### Texto-base 1"
   ]
  },
  {
   "cell_type": "markdown",
   "id": "1aef6d14",
   "metadata": {},
   "source": []
  },
  {
   "cell_type": "markdown",
   "id": "3a22377f",
   "metadata": {},
   "source": [
    "### Texto-base 2"
   ]
  },
  {
   "cell_type": "markdown",
   "id": "0feeeb8a",
   "metadata": {},
   "source": []
  },
  {
   "cell_type": "markdown",
   "id": "b11354b4",
   "metadata": {},
   "source": [
    "##"
   ]
  },
  {
   "cell_type": "markdown",
   "id": "11d97a73",
   "metadata": {},
   "source": [
    "### Videoaula 16 - Classificação de Textos"
   ]
  },
  {
   "cell_type": "markdown",
   "id": "b61bd90c",
   "metadata": {},
   "source": []
  },
  {
   "cell_type": "markdown",
   "id": "9c73e39d",
   "metadata": {},
   "source": [
    "#### Quiz - videoaula 16"
   ]
  },
  {
   "cell_type": "markdown",
   "id": "48504d86",
   "metadata": {},
   "source": []
  },
  {
   "cell_type": "markdown",
   "id": "34673619",
   "metadata": {},
   "source": [
    "### Videoaula 17 - Redes Neurais Profundas"
   ]
  },
  {
   "cell_type": "markdown",
   "id": "4b0e7ece",
   "metadata": {},
   "source": []
  },
  {
   "cell_type": "markdown",
   "id": "ae3961a5",
   "metadata": {},
   "source": [
    "#### Quiz - videoaula 17"
   ]
  },
  {
   "cell_type": "markdown",
   "id": "4b7cf26d",
   "metadata": {},
   "source": []
  },
  {
   "cell_type": "markdown",
   "id": "dc1f78e1",
   "metadata": {},
   "source": [
    "### Videoaula 18 - Prática: Classificação de Textos"
   ]
  },
  {
   "cell_type": "markdown",
   "id": "a32030e0",
   "metadata": {},
   "source": []
  },
  {
   "cell_type": "markdown",
   "id": "bdb15cc2",
   "metadata": {},
   "source": [
    "#### Quiz - videoaula 18"
   ]
  },
  {
   "cell_type": "markdown",
   "id": "c73edde6",
   "metadata": {},
   "source": []
  },
  {
   "cell_type": "markdown",
   "id": "cff056b6",
   "metadata": {},
   "source": [
    "## Quiz Objeto Educacional"
   ]
  },
  {
   "cell_type": "markdown",
   "id": "c6d96067",
   "metadata": {},
   "source": []
  },
  {
   "cell_type": "markdown",
   "id": "261a20bb",
   "metadata": {},
   "source": [
    "## Aprofundando o Tema"
   ]
  },
  {
   "cell_type": "markdown",
   "id": "2475692c",
   "metadata": {},
   "source": [
    "### Material de Apoio 1"
   ]
  },
  {
   "cell_type": "markdown",
   "id": "dcf3f040",
   "metadata": {},
   "source": []
  },
  {
   "cell_type": "markdown",
   "id": "df626bd0",
   "metadata": {},
   "source": [
    "### Material de Apoio 2"
   ]
  },
  {
   "cell_type": "markdown",
   "id": "62f2a9d0",
   "metadata": {},
   "source": []
  },
  {
   "cell_type": "markdown",
   "id": "0282f850",
   "metadata": {},
   "source": [
    "## Atividade Avaliativa - Semana 6"
   ]
  },
  {
   "cell_type": "markdown",
   "id": "83c70a97",
   "metadata": {},
   "source": []
  },
  {
   "cell_type": "markdown",
   "id": "bff50e83",
   "metadata": {},
   "source": [
    "## Em Síntese"
   ]
  },
  {
   "cell_type": "markdown",
   "id": "4e2e357c",
   "metadata": {},
   "source": []
  },
  {
   "cell_type": "markdown",
   "id": "e5551ded",
   "metadata": {},
   "source": []
  }
 ],
 "metadata": {
  "language_info": {
   "name": "python"
  }
 },
 "nbformat": 4,
 "nbformat_minor": 5
}
