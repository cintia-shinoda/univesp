{
 "cells": [
  {
   "cell_type": "markdown",
   "id": "e8444f0c",
   "metadata": {},
   "source": [
    "# Semana 3 - Modelos de Linguagem e Representações Vetoriais"
   ]
  },
  {
   "cell_type": "markdown",
   "id": "2e677a5f",
   "metadata": {},
   "source": [
    "## Desafio"
   ]
  },
  {
   "cell_type": "markdown",
   "id": "10b52cbc",
   "metadata": {},
   "source": []
  },
  {
   "cell_type": "markdown",
   "id": "d0c9a11e",
   "metadata": {},
   "source": [
    "## Revisitando Conhecimentos"
   ]
  },
  {
   "cell_type": "markdown",
   "id": "cff30618",
   "metadata": {},
   "source": []
  },
  {
   "cell_type": "markdown",
   "id": "b93d2a3b",
   "metadata": {},
   "source": [
    "##"
   ]
  },
  {
   "cell_type": "markdown",
   "id": "dea8f1c3",
   "metadata": {},
   "source": [
    "### Texto-base 1"
   ]
  },
  {
   "cell_type": "markdown",
   "id": "4ea06005",
   "metadata": {},
   "source": []
  },
  {
   "cell_type": "markdown",
   "id": "b324c6f1",
   "metadata": {},
   "source": [
    "### Videoaula 7 - Modelos n-gramas"
   ]
  },
  {
   "cell_type": "markdown",
   "id": "ac3d5710",
   "metadata": {},
   "source": []
  },
  {
   "cell_type": "markdown",
   "id": "05f2051d",
   "metadata": {},
   "source": [
    "#### Quiz - videoaula 7"
   ]
  },
  {
   "cell_type": "markdown",
   "id": "61443348",
   "metadata": {},
   "source": []
  },
  {
   "cell_type": "markdown",
   "id": "52f14d1c",
   "metadata": {},
   "source": [
    "### Texto-base 2"
   ]
  },
  {
   "cell_type": "markdown",
   "id": "3a97308f",
   "metadata": {},
   "source": []
  },
  {
   "cell_type": "markdown",
   "id": "c1a036cb",
   "metadata": {},
   "source": [
    "### Texto-base 3"
   ]
  },
  {
   "cell_type": "markdown",
   "id": "cbefa44b",
   "metadata": {},
   "source": []
  },
  {
   "cell_type": "markdown",
   "id": "6addfb81",
   "metadata": {},
   "source": [
    "## Quiz Objeto Educacional"
   ]
  },
  {
   "cell_type": "markdown",
   "id": "3af08b48",
   "metadata": {},
   "source": [
    "###"
   ]
  },
  {
   "cell_type": "markdown",
   "id": "2a9e1f43",
   "metadata": {},
   "source": [
    "### "
   ]
  },
  {
   "cell_type": "markdown",
   "id": "6680f22b",
   "metadata": {},
   "source": [
    "### Videoaula 8 - Representação Vetorial de Textos"
   ]
  },
  {
   "cell_type": "markdown",
   "id": "37d33b50",
   "metadata": {},
   "source": []
  },
  {
   "cell_type": "markdown",
   "id": "e82cf723",
   "metadata": {},
   "source": [
    "#### Quiz - videoaula 8"
   ]
  },
  {
   "cell_type": "markdown",
   "id": "e0c4d0f0",
   "metadata": {},
   "source": []
  },
  {
   "cell_type": "markdown",
   "id": "b33dbd0c",
   "metadata": {},
   "source": [
    "### Videoaula 9 - Prática: Modelos de Linguagem e Representações Vetoriais"
   ]
  },
  {
   "cell_type": "markdown",
   "id": "da192786",
   "metadata": {},
   "source": []
  },
  {
   "cell_type": "markdown",
   "id": "e598c80c",
   "metadata": {},
   "source": [
    "#### Quiz - videoaula 9"
   ]
  },
  {
   "cell_type": "markdown",
   "id": "ca3d741a",
   "metadata": {},
   "source": []
  },
  {
   "cell_type": "markdown",
   "id": "877a47f3",
   "metadata": {},
   "source": [
    "## Aprofundando o Tema"
   ]
  },
  {
   "cell_type": "markdown",
   "id": "5738d9b7",
   "metadata": {},
   "source": []
  },
  {
   "cell_type": "markdown",
   "id": "a2487f7f",
   "metadata": {},
   "source": [
    "## Atividade Avaliativa - Semana 3"
   ]
  },
  {
   "cell_type": "markdown",
   "id": "7642961b",
   "metadata": {},
   "source": []
  },
  {
   "cell_type": "markdown",
   "id": "3560a323",
   "metadata": {},
   "source": [
    "## Em Síntese"
   ]
  },
  {
   "cell_type": "markdown",
   "id": "b6ba8c36",
   "metadata": {},
   "source": []
  }
 ],
 "metadata": {
  "language_info": {
   "name": "python"
  }
 },
 "nbformat": 4,
 "nbformat_minor": 5
}
