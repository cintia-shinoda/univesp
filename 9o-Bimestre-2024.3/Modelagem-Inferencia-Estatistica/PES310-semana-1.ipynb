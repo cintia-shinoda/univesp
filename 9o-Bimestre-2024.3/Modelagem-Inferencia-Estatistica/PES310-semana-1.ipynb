{
 "cells": [
  {
   "cell_type": "markdown",
   "metadata": {},
   "source": [
    "# Semana 1 - Introdução à disciplina e Regressão Linear Simples"
   ]
  },
  {
   "cell_type": "markdown",
   "metadata": {},
   "source": [
    "## Revisitando Conhecimentos"
   ]
  },
  {
   "cell_type": "markdown",
   "metadata": {},
   "source": [
    "### Texto de apoio"
   ]
  },
  {
   "cell_type": "markdown",
   "metadata": {},
   "source": [
    "\"Data Science do Zero\" - Joel Grus - Capítulo  (p. 76-100)\n",
    "\n",
    "\n"
   ]
  },
  {
   "cell_type": "markdown",
   "metadata": {},
   "source": [
    "### Vídeo de apoio"
   ]
  },
  {
   "cell_type": "markdown",
   "metadata": {},
   "source": [
    "Estatística - Aula 25 - Correlação e Regressão\n",
    "https://youtu.be/v6kI-9s2Qhk\n",
    "\n"
   ]
  },
  {
   "cell_type": "markdown",
   "metadata": {},
   "source": [
    "## Estudos"
   ]
  },
  {
   "cell_type": "markdown",
   "metadata": {},
   "source": [
    "### Videoaula 1 - Introdução da disciplina (Aula entrevista)\n",
    "\n",
    "https://youtu.be/-l_klaoNNU0"
   ]
  },
  {
   "cell_type": "markdown",
   "metadata": {},
   "source": [
    "### Quiz da Videoaula 1\n",
    "\n"
   ]
  },
  {
   "cell_type": "markdown",
   "metadata": {},
   "source": [
    "### Videoaula 2 - Regressão Linear\n",
    "\n",
    "https://youtu.be/dJrn2Uww254\n",
    "\n"
   ]
  },
  {
   "cell_type": "markdown",
   "metadata": {},
   "source": [
    "### Quiz da Videoaula 2"
   ]
  },
  {
   "cell_type": "markdown",
   "metadata": {},
   "source": [
    "### Texto base 1\n",
    "\n"
   ]
  },
  {
   "cell_type": "markdown",
   "metadata": {},
   "source": [
    "### Videoaula 3 - Regressão Linear: Exercícios\n",
    "\n",
    "https://youtu.be/aeIDTQ31Jaw"
   ]
  },
  {
   "cell_type": "markdown",
   "metadata": {},
   "source": [
    "### Quiz da Videoaula 3"
   ]
  },
  {
   "cell_type": "markdown",
   "metadata": {},
   "source": [
    "### Quiz Objeto Educacional"
   ]
  },
  {
   "cell_type": "markdown",
   "metadata": {},
   "source": [
    "### Exercício de apoio"
   ]
  },
  {
   "cell_type": "markdown",
   "metadata": {},
   "source": [
    "## Aprofundando o tema"
   ]
  },
  {
   "cell_type": "markdown",
   "metadata": {},
   "source": [
    "### Texto de apoio"
   ]
  },
  {
   "cell_type": "markdown",
   "metadata": {},
   "source": [
    "NIST/SEMATECH e-Handbook of Statistical Methods | Exemplos de diagramas\n",
    "https://www.itl.nist.gov/div898/handbook/eda/section3/eda33.htm"
   ]
  },
  {
   "cell_type": "markdown",
   "metadata": {},
   "source": [
    "### Texto de apoio"
   ]
  },
  {
   "cell_type": "markdown",
   "metadata": {},
   "source": [
    "Python Scatter Plot | A. D. Venmani\n",
    "\n",
    "https://www.machinelearningplus.com/plots/python-scatter-plot/"
   ]
  },
  {
   "cell_type": "markdown",
   "metadata": {},
   "source": [
    "### Texto de apoio"
   ]
  },
  {
   "cell_type": "markdown",
   "metadata": {},
   "source": [
    "Glossário de Estatística | J. Assis, R. Souza e C. Diaz\n",
    "\n",
    "https://livraria.ufersa.edu.br/wp-content/uploads/sites/165/2019/07/Glossario-de-Estatistica_2019-1.pdf%20\n"
   ]
  },
  {
   "cell_type": "markdown",
   "metadata": {},
   "source": [
    "### Vídeo de apoio"
   ]
  },
  {
   "cell_type": "markdown",
   "metadata": {},
   "source": [
    "Estatística Diagrama de Ramos e Folhas\n",
    "\n",
    "https://youtu.be/xMqsd1zW62Y"
   ]
  },
  {
   "cell_type": "markdown",
   "metadata": {},
   "source": [
    "## Atividade Avaliativa - Semana 1"
   ]
  },
  {
   "cell_type": "markdown",
   "metadata": {},
   "source": [
    "## Desafio"
   ]
  },
  {
   "cell_type": "markdown",
   "metadata": {},
   "source": [
    "https://colab.research.google.com/drive/1xVfyAh1BAmnPbcxmDyaAypT3lEk2-TVX?usp=sharing\n",
    "\n",
    "Suponha que você está prestando serviços a uma empresa química, que está analisando dois métodos para realizar a verificação de concentração de hidrogênio, no intuito de conhecer se os resultados fornecem valores adequados.\n",
    "\n",
    "Observe as informações que eles forneceram e responda aos questionamentos iniciais que ajudaram a dar início à tomada de decisão. Os dados fornecidos são: **x = concentração de hidrogênio (ppm)** usando um método de cromatografia gasosa e **y = concentração usando um novo método**.\n",
    "\n",
    "E forneceram os seguintes resultados:\n",
    "\n",
    "\n",
    "|  |     |     |     |     |     |     |     |     |     |     |     |     |\n",
    "|:---:| --- | --- | --- | --- | --- | --- | --- | --- | --- | --- | --- | --- |\n",
    "| x   |  47 |  62 |  65 |  70 |  70 |  78 |  95 | 100 | 114 | 118 | 124 | 127 |\n",
    "| y   |  38 |  62 |  53 |  67 |  84 |  79 |  93 | 106 | 117 | 116 | 127 | 114 |\n",
    "\n",
    "\n",
    "Que, de acordo com o mencionado no parágrafo anterior, x é a concentração de hidrogênio (ppm) usando um método de cromatografia gasosa e y é a concentração usando um novo método.\n",
    "\n",
    "Fonte: Devore \"A new method to measure the diffusible hydrogen content in steel weldments using a polymer electrolyte-based hydrogen sensor\" (Welding Res., jul. 1997: 251s-256s).\n",
    "\n",
    "Observe os dados sobre concentração de hidrogênio e, como primeiro passo, pense sobre o tipo de dados que está tratando, eles são numéricos, categóricos, univariados, bivariados? Após, realize um diagrama de dispersão e veja o tipo de correlação que os dados têm."
   ]
  },
  {
   "cell_type": "markdown",
   "metadata": {},
   "source": [
    "## Em Síntese"
   ]
  },
  {
   "cell_type": "markdown",
   "metadata": {},
   "source": []
  }
 ],
 "metadata": {
  "language_info": {
   "name": "python"
  }
 },
 "nbformat": 4,
 "nbformat_minor": 2
}
