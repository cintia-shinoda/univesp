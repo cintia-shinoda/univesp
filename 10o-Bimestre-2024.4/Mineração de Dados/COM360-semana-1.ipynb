{
 "cells": [
  {
   "cell_type": "markdown",
   "metadata": {},
   "source": [
    "# Semana 1 - Introdução à mineração de dados e descoberta de conhecimento"
   ]
  },
  {
   "cell_type": "markdown",
   "metadata": {
    "collapsed": false
   },
   "source": []
  },
  {
   "cell_type": "markdown",
   "metadata": {},
   "source": [
    "## Objetivos"
   ]
  },
  {
   "cell_type": "markdown",
   "metadata": {},
   "source": [
    "## Desafio"
   ]
  },
  {
   "cell_type": "markdown",
   "metadata": {},
   "source": [
    "## Revisitando Conhecimentos"
   ]
  },
  {
   "cell_type": "markdown",
   "metadata": {},
   "source": [
    "### Texto de apoio"
   ]
  },
  {
   "cell_type": "markdown",
   "metadata": {},
   "source": [
    "## Orientação de estudos"
   ]
  },
  {
   "cell_type": "markdown",
   "metadata": {},
   "source": [
    "## Material-base"
   ]
  },
  {
   "cell_type": "markdown",
   "metadata": {},
   "source": [
    "### Vídeo-base"
   ]
  },
  {
   "cell_type": "markdown",
   "metadata": {},
   "source": [
    "https://youtu.be/z6jbqkmshig\n",
    "\n"
   ]
  },
  {
   "cell_type": "markdown",
   "metadata": {},
   "source": [
    "### Vídeo-base"
   ]
  },
  {
   "cell_type": "markdown",
   "metadata": {},
   "source": [
    "### Texto-base"
   ]
  },
  {
   "cell_type": "markdown",
   "metadata": {},
   "source": [
    "### Videoaula 1: Introdução à mineração de dados"
   ]
  },
  {
   "cell_type": "markdown",
   "metadata": {},
   "source": [
    "https://youtu.be/S8eEPpLyTIA\n",
    "\n",
    "#### Tipos de estruturas de dados\n",
    "##### Estruturados\n",
    "- banco de dados\n",
    "- planilhas\n",
    "##### Semiestruturados\n",
    "- Marcadores (tags)\n",
    "- email\n",
    "##### Não estruturados\n",
    "- PDF\n",
    "- texto\n",
    "- imagens\n",
    "\n",
    "#### Tipos de atributos\n",
    "##### Categóricos\n",
    "- Binário\n",
    "- Nominal\n",
    "- Ordinal\n",
    "##### Numéricos\n",
    "- Discreto\n",
    "- Contínuo\n",
    "- Razão: diferença entre valores\n",
    "\n"
   ]
  },
  {
   "cell_type": "markdown",
   "metadata": {},
   "source": [
    "### Texto-base"
   ]
  },
  {
   "cell_type": "markdown",
   "metadata": {},
   "source": [
    "### Videoaula 2: Descoberta de conhecimento em bases de dados"
   ]
  },
  {
   "cell_type": "markdown",
   "metadata": {},
   "source": [
    "https://youtu.be/61Di3FSRiG8\n",
    "\n",
    "- KDD: Knowledge Discovery in Databases\n",
    "\n",
    "#### Etapas do KDD\n",
    "- Definição dos objetivos: determinar o domínio\n",
    "- Seleção de fontes\n",
    "- Pré-processamento\n",
    "- Transformação\n",
    "- Mineração de dados\n",
    "- Avaliação dos resultados\n",
    "\n",
    "#### Terminologia\n",
    "- Inteligência Artificial\n",
    "- Aprendizado de Máquina (Machine Learning)\n",
    "- Aprendizado Profundo (Deep Learning)\n",
    "- Ciência de Dados\n",
    "- KDD\n",
    "- Mineração de dados\n",
    "\n",
    "#### Tarefas da Mineração de Dados\n",
    "#### Descritivas\n",
    "- propriedades dos dados\n",
    "- conhecimento sobre os dados\n",
    "#### Preditivas\n",
    "- inferências\n",
    "- relações\n",
    "- geração de conhecimento\n",
    "\n",
    "##### Análise Descritiva de Dados\n",
    "- média\n",
    "- desvio padrão\n",
    "##### Predição\n",
    "- classificação/estimação\n",
    "- ex: análise de sentimentos\n",
    "##### Agrupamento\n",
    "##### Associação\n",
    "##### Detecção de anomalias\n",
    "- fraudes"
   ]
  },
  {
   "cell_type": "markdown",
   "metadata": {},
   "source": [
    "### Quiz das videoaulas"
   ]
  },
  {
   "cell_type": "markdown",
   "metadata": {},
   "source": []
  },
  {
   "cell_type": "markdown",
   "metadata": {},
   "source": [
    "## Aprofundando o tema"
   ]
  },
  {
   "cell_type": "markdown",
   "metadata": {},
   "source": [
    "### Vídeo de apoio"
   ]
  },
  {
   "cell_type": "markdown",
   "metadata": {},
   "source": [
    "### Vídeo de apoio"
   ]
  },
  {
   "cell_type": "markdown",
   "metadata": {},
   "source": [
    "### Texto de apoio"
   ]
  },
  {
   "cell_type": "markdown",
   "metadata": {},
   "source": [
    "### Texto de apoio"
   ]
  },
  {
   "cell_type": "markdown",
   "metadata": {},
   "source": [
    "### Quiz Objeto Educacional"
   ]
  },
  {
   "cell_type": "markdown",
   "metadata": {},
   "source": [
    "## Atividade Avaliativa - Semana 1"
   ]
  },
  {
   "cell_type": "markdown",
   "metadata": {},
   "source": [
    "## Em Síntese"
   ]
  },
  {
   "cell_type": "markdown",
   "metadata": {},
   "source": []
  }
 ],
 "metadata": {
  "language_info": {
   "name": "python"
  }
 },
 "nbformat": 4,
 "nbformat_minor": 2
}
