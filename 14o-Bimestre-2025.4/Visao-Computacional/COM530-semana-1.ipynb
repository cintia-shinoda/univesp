{
 "cells": [
  {
   "cell_type": "markdown",
   "id": "2eaacf55",
   "metadata": {},
   "source": [
    "# Semana 1 - Introdução à Visão Computacional"
   ]
  },
  {
   "cell_type": "markdown",
   "id": "7d8e2f62",
   "metadata": {},
   "source": [
    "## Desafio"
   ]
  },
  {
   "cell_type": "markdown",
   "id": "57590cda",
   "metadata": {},
   "source": []
  },
  {
   "cell_type": "markdown",
   "id": "21f71468",
   "metadata": {},
   "source": [
    "##"
   ]
  },
  {
   "cell_type": "markdown",
   "id": "03a67c98",
   "metadata": {},
   "source": [
    "### Videoaula 1 - Introdução à Visão Computacional"
   ]
  },
  {
   "cell_type": "markdown",
   "id": "969ed012",
   "metadata": {},
   "source": []
  },
  {
   "cell_type": "markdown",
   "id": "58876a4a",
   "metadata": {},
   "source": [
    "#### Quiz - videoaula 1"
   ]
  },
  {
   "cell_type": "markdown",
   "id": "42b913a9",
   "metadata": {},
   "source": []
  },
  {
   "cell_type": "markdown",
   "id": "ab038c66",
   "metadata": {},
   "source": [
    "### Videoaula 2 - Sistema Visual Humano"
   ]
  },
  {
   "cell_type": "markdown",
   "id": "06b25b3d",
   "metadata": {},
   "source": []
  },
  {
   "cell_type": "markdown",
   "id": "b1b689fc",
   "metadata": {},
   "source": [
    "#### Quiz - videoaula 2"
   ]
  },
  {
   "cell_type": "markdown",
   "id": "411a119b",
   "metadata": {},
   "source": []
  },
  {
   "cell_type": "markdown",
   "id": "e11b214f",
   "metadata": {},
   "source": [
    "### Videoaula 3 - Fundamentos de Imagens Digitais"
   ]
  },
  {
   "cell_type": "markdown",
   "id": "730b2933",
   "metadata": {},
   "source": []
  },
  {
   "cell_type": "markdown",
   "id": "e319b118",
   "metadata": {},
   "source": [
    "#### Quiz - videoaula 3"
   ]
  },
  {
   "cell_type": "markdown",
   "id": "a9cd2456",
   "metadata": {},
   "source": []
  },
  {
   "cell_type": "markdown",
   "id": "12043a1f",
   "metadata": {},
   "source": [
    "## Material-Base"
   ]
  },
  {
   "cell_type": "markdown",
   "id": "9e3e8cca",
   "metadata": {},
   "source": [
    "### Texto-base 1"
   ]
  },
  {
   "cell_type": "markdown",
   "id": "99f93a42",
   "metadata": {},
   "source": []
  },
  {
   "cell_type": "markdown",
   "id": "1affe856",
   "metadata": {},
   "source": [
    "### Texto-base 2"
   ]
  },
  {
   "cell_type": "markdown",
   "id": "b111f490",
   "metadata": {},
   "source": []
  },
  {
   "cell_type": "markdown",
   "id": "61a6af75",
   "metadata": {},
   "source": [
    "### Texto-base 3"
   ]
  },
  {
   "cell_type": "markdown",
   "id": "b60fe541",
   "metadata": {},
   "source": []
  },
  {
   "cell_type": "markdown",
   "id": "7f1906ca",
   "metadata": {},
   "source": [
    "### Texto-base 4"
   ]
  },
  {
   "cell_type": "markdown",
   "id": "3f2adfa0",
   "metadata": {},
   "source": []
  },
  {
   "cell_type": "markdown",
   "id": "fd3dc6d7",
   "metadata": {},
   "source": [
    "## Quiz Objeto Educacional"
   ]
  },
  {
   "cell_type": "markdown",
   "id": "ab543aac",
   "metadata": {},
   "source": []
  },
  {
   "cell_type": "markdown",
   "id": "8228efba",
   "metadata": {},
   "source": [
    "## Atividade Avaliativa"
   ]
  },
  {
   "cell_type": "markdown",
   "id": "bc2d8519",
   "metadata": {},
   "source": []
  },
  {
   "cell_type": "markdown",
   "id": "0a5cd5bf",
   "metadata": {},
   "source": [
    "## Aprofundando o Tema"
   ]
  },
  {
   "cell_type": "markdown",
   "id": "c0d335cc",
   "metadata": {},
   "source": [
    "### Vídeo de apoio 1"
   ]
  },
  {
   "cell_type": "markdown",
   "id": "27e76701",
   "metadata": {},
   "source": []
  },
  {
   "cell_type": "markdown",
   "id": "707296d5",
   "metadata": {},
   "source": [
    "### Vídeo de apoio 2"
   ]
  },
  {
   "cell_type": "markdown",
   "id": "e12ba636",
   "metadata": {},
   "source": []
  },
  {
   "cell_type": "markdown",
   "id": "02c28f63",
   "metadata": {},
   "source": [
    "### Texto de apoio"
   ]
  },
  {
   "cell_type": "markdown",
   "id": "61d26247",
   "metadata": {},
   "source": []
  },
  {
   "cell_type": "markdown",
   "id": "41c47778",
   "metadata": {},
   "source": [
    "## Em Síntese"
   ]
  },
  {
   "cell_type": "markdown",
   "id": "6a238c7d",
   "metadata": {},
   "source": []
  }
 ],
 "metadata": {
  "language_info": {
   "name": "python"
  }
 },
 "nbformat": 4,
 "nbformat_minor": 5
}
