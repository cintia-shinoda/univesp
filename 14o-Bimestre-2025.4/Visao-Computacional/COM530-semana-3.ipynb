{
 "cells": [
  {
   "cell_type": "markdown",
   "id": "1aa089b9",
   "metadata": {},
   "source": [
    "# Semana 3 - "
   ]
  }
 ],
 "metadata": {
  "language_info": {
   "name": "python"
  }
 },
 "nbformat": 4,
 "nbformat_minor": 5
}
