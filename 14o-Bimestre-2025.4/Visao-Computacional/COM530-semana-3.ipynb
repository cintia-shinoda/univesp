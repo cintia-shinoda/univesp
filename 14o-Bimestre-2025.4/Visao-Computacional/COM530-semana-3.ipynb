{
 "cells": [
  {
   "cell_type": "markdown",
   "id": "1aa089b9",
   "metadata": {},
   "source": [
    "# Semana 3 - Imagens Coloridas e Câmeras"
   ]
  },
  {
   "cell_type": "markdown",
   "id": "bbb2537d",
   "metadata": {},
   "source": [
    "## Desafio"
   ]
  },
  {
   "cell_type": "markdown",
   "id": "258debe8",
   "metadata": {},
   "source": []
  },
  {
   "cell_type": "markdown",
   "id": "43453799",
   "metadata": {},
   "source": [
    "##"
   ]
  },
  {
   "cell_type": "markdown",
   "id": "db2bccf6",
   "metadata": {},
   "source": [
    "### Videoaula 7 - Modelos de Cores"
   ]
  },
  {
   "cell_type": "markdown",
   "id": "394182c0",
   "metadata": {},
   "source": [
    "https://youtu.be/I7LvnlbsE9U"
   ]
  },
  {
   "cell_type": "markdown",
   "id": "fbb89bac",
   "metadata": {},
   "source": [
    "#### Quiz - videoaula 7"
   ]
  },
  {
   "cell_type": "markdown",
   "id": "1d776234",
   "metadata": {},
   "source": []
  },
  {
   "cell_type": "markdown",
   "id": "450bb9f2",
   "metadata": {},
   "source": [
    "### Videoaula 8 - Processamento de Imagens Coloridas"
   ]
  },
  {
   "cell_type": "markdown",
   "id": "4cb5d602",
   "metadata": {},
   "source": [
    "https://youtu.be/_IyWP7kyp6k"
   ]
  },
  {
   "cell_type": "markdown",
   "id": "ad73e02d",
   "metadata": {},
   "source": [
    "#### Quiz - videoaula 8"
   ]
  },
  {
   "cell_type": "markdown",
   "id": "8a9ef539",
   "metadata": {},
   "source": []
  },
  {
   "cell_type": "markdown",
   "id": "b2f9cd4e",
   "metadata": {},
   "source": [
    "### Videoaula 9 - Câmeras e Calibrações"
   ]
  },
  {
   "cell_type": "markdown",
   "id": "0d52ffcf",
   "metadata": {},
   "source": [
    "https://youtu.be/bs4TsJZ8xk8"
   ]
  },
  {
   "cell_type": "markdown",
   "id": "4a13426c",
   "metadata": {},
   "source": [
    "#### Quiz - videoaula 9"
   ]
  },
  {
   "cell_type": "markdown",
   "id": "e273bbc2",
   "metadata": {},
   "source": []
  },
  {
   "cell_type": "markdown",
   "id": "c5425fa0",
   "metadata": {},
   "source": [
    "### Texto-base 1"
   ]
  },
  {
   "cell_type": "markdown",
   "id": "bed12a21",
   "metadata": {},
   "source": [
    "Processamento Digital de Imagens - Capítulo 6 (exceto seções 6.7 e 6.9) | Rafael C. Gonzales e Richard E. Woods 3ª edição"
   ]
  },
  {
   "cell_type": "markdown",
   "id": "7b70b025",
   "metadata": {},
   "source": [
    "### Texto-base 2"
   ]
  },
  {
   "cell_type": "markdown",
   "id": "7348ae0b",
   "metadata": {},
   "source": [
    "Processamento de Imagens - Seção 2.5 | Rafael C. Gonzales e Richard E. Woods 1ª edição"
   ]
  },
  {
   "cell_type": "markdown",
   "id": "64e42464",
   "metadata": {},
   "source": [
    "## Quiz Objeto Educacional"
   ]
  },
  {
   "cell_type": "markdown",
   "id": "d908c5c4",
   "metadata": {},
   "source": []
  },
  {
   "cell_type": "markdown",
   "id": "0166ba9b",
   "metadata": {},
   "source": [
    "## Atividade Avaliativa"
   ]
  },
  {
   "cell_type": "markdown",
   "id": "aa25aca3",
   "metadata": {},
   "source": []
  },
  {
   "cell_type": "markdown",
   "id": "5e7a6521",
   "metadata": {},
   "source": [
    "## Aprofundando o Tema"
   ]
  },
  {
   "cell_type": "markdown",
   "id": "68263d19",
   "metadata": {},
   "source": [
    "### Texto de Apoio 1"
   ]
  },
  {
   "cell_type": "markdown",
   "id": "0de89183",
   "metadata": {},
   "source": [
    "Computer Vision: Algorithms and Applications - Capítulo 2 | Richard Szeliski"
   ]
  },
  {
   "cell_type": "markdown",
   "id": "49e6bf87",
   "metadata": {},
   "source": [
    "### Vídeo de Apoio 1"
   ]
  },
  {
   "cell_type": "markdown",
   "id": "4e60f04b",
   "metadata": {},
   "source": [
    "[Photogrammetry I - 15ª Camera Extrinsics and Intrinsics (2015)](https://youtu.be/DX2GooBIESs)"
   ]
  },
  {
   "cell_type": "markdown",
   "id": "8f7a749c",
   "metadata": {},
   "source": [
    "### Vídeo de Apoio 2"
   ]
  },
  {
   "cell_type": "markdown",
   "id": "29d12999",
   "metadata": {},
   "source": [
    "[Photogrammetry I - 16ª DLT & Camera Calibration (2015)](https://youtu.be/ywternCEqSU)"
   ]
  },
  {
   "cell_type": "markdown",
   "id": "0a718b2e",
   "metadata": {},
   "source": []
  },
  {
   "cell_type": "markdown",
   "id": "06e87e62",
   "metadata": {},
   "source": [
    "## Em Síntese"
   ]
  },
  {
   "cell_type": "markdown",
   "id": "886023f4",
   "metadata": {},
   "source": []
  }
 ],
 "metadata": {
  "language_info": {
   "name": "python"
  }
 },
 "nbformat": 4,
 "nbformat_minor": 5
}
