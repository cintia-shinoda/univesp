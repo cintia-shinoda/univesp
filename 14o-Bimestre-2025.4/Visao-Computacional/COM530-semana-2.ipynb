{
 "cells": [
  {
   "cell_type": "markdown",
   "id": "1b3d0792",
   "metadata": {},
   "source": [
    "# Semana 2 - Pré-processamento de Imagens"
   ]
  },
  {
   "cell_type": "markdown",
   "id": "8997bd27",
   "metadata": {},
   "source": [
    "##"
   ]
  },
  {
   "cell_type": "markdown",
   "id": "ee3d36de",
   "metadata": {},
   "source": [
    "### Videoaula 4 - Relacionamento e Operações"
   ]
  },
  {
   "cell_type": "markdown",
   "id": "90754ed7",
   "metadata": {},
   "source": []
  },
  {
   "cell_type": "markdown",
   "id": "ac79d203",
   "metadata": {},
   "source": [
    "#### Quiz - videoaula 4"
   ]
  },
  {
   "cell_type": "markdown",
   "id": "ea6631fa",
   "metadata": {},
   "source": []
  },
  {
   "cell_type": "markdown",
   "id": "0b88d745",
   "metadata": {},
   "source": [
    "### Videoaula 5 - Transformações de Intensidade"
   ]
  },
  {
   "cell_type": "markdown",
   "id": "b7efd854",
   "metadata": {},
   "source": []
  },
  {
   "cell_type": "markdown",
   "id": "8c0be099",
   "metadata": {},
   "source": [
    "#### Quiz - videoaula 5"
   ]
  },
  {
   "cell_type": "markdown",
   "id": "b2f830ce",
   "metadata": {},
   "source": [
    "### Videoaula 6 - Filtragem Espacial"
   ]
  },
  {
   "cell_type": "markdown",
   "id": "30aa4a24",
   "metadata": {},
   "source": []
  },
  {
   "cell_type": "markdown",
   "id": "6b45eed2",
   "metadata": {},
   "source": [
    "#### Quiz - videoaula 6"
   ]
  },
  {
   "cell_type": "markdown",
   "id": "fe0f38f6",
   "metadata": {},
   "source": []
  },
  {
   "cell_type": "markdown",
   "id": "74a05234",
   "metadata": {},
   "source": [
    "### Texto base 1"
   ]
  },
  {
   "cell_type": "markdown",
   "id": "3388aa5b",
   "metadata": {},
   "source": []
  },
  {
   "cell_type": "markdown",
   "id": "1b349583",
   "metadata": {},
   "source": [
    "##"
   ]
  },
  {
   "cell_type": "markdown",
   "id": "b7050542",
   "metadata": {},
   "source": [
    "### Texto-base 2"
   ]
  },
  {
   "cell_type": "markdown",
   "id": "33fde543",
   "metadata": {},
   "source": []
  },
  {
   "cell_type": "markdown",
   "id": "d1a4a3c6",
   "metadata": {},
   "source": []
  },
  {
   "cell_type": "markdown",
   "id": "b8b82735",
   "metadata": {},
   "source": [
    "## Quiz - Objeto Educacional"
   ]
  },
  {
   "cell_type": "markdown",
   "id": "3e4f4ba1",
   "metadata": {},
   "source": []
  },
  {
   "cell_type": "markdown",
   "id": "883228ad",
   "metadata": {},
   "source": [
    "## Atividade Avaliativa - Semana 2"
   ]
  },
  {
   "cell_type": "markdown",
   "id": "f8fd5187",
   "metadata": {},
   "source": []
  },
  {
   "cell_type": "markdown",
   "id": "dcd7c7d9",
   "metadata": {},
   "source": [
    "## Aprofundando o Tema"
   ]
  },
  {
   "cell_type": "markdown",
   "id": "256e0510",
   "metadata": {},
   "source": [
    "### Texto de Apoio"
   ]
  },
  {
   "cell_type": "markdown",
   "id": "efecbd69",
   "metadata": {},
   "source": []
  },
  {
   "cell_type": "markdown",
   "id": "dca0fde2",
   "metadata": {},
   "source": [
    "## Desafio"
   ]
  },
  {
   "cell_type": "markdown",
   "id": "606d9e07",
   "metadata": {},
   "source": []
  },
  {
   "cell_type": "markdown",
   "id": "0082474e",
   "metadata": {},
   "source": [
    "## Em Síntese"
   ]
  },
  {
   "cell_type": "markdown",
   "id": "df8b90f2",
   "metadata": {},
   "source": [
    " [ ] Conheci os relacionamentos entre pixels de uma imagem;\n",
    "\n",
    " [ ] Realizei as principais operações matemáticas sobre imagens;\n",
    "\n",
    " [ ] Compreendi os fundamentos de processamento espacial, transformações de intensidade e filtragem espacial;\n",
    " \n",
    " [ ] Apliquei as técnicas clássicas de transformações de intensidade e filtragem espacial."
   ]
  },
  {
   "cell_type": "markdown",
   "id": "e11b141d",
   "metadata": {},
   "source": []
  }
 ],
 "metadata": {
  "language_info": {
   "name": "python"
  }
 },
 "nbformat": 4,
 "nbformat_minor": 5
}
