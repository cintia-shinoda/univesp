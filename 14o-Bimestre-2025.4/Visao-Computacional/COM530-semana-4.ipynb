{
 "cells": [
  {
   "cell_type": "markdown",
   "id": "08356118",
   "metadata": {},
   "source": [
    "# Semana 4 - Aprendizado de Máquina"
   ]
  },
  {
   "cell_type": "markdown",
   "id": "733f4427",
   "metadata": {},
   "source": [
    "## Desafio"
   ]
  },
  {
   "cell_type": "markdown",
   "id": "2c30f228",
   "metadata": {},
   "source": []
  },
  {
   "cell_type": "markdown",
   "id": "3fc53a11",
   "metadata": {},
   "source": [
    "##"
   ]
  },
  {
   "cell_type": "markdown",
   "id": "178e66c7",
   "metadata": {},
   "source": [
    "### Videoaula 10 - Aprendizado de Máquina"
   ]
  },
  {
   "cell_type": "markdown",
   "id": "a4851a92",
   "metadata": {},
   "source": [
    "https://youtu.be/qVMvyGz1cvQ"
   ]
  },
  {
   "cell_type": "markdown",
   "id": "7321da41",
   "metadata": {},
   "source": [
    "#### Quiz - videoaula 10"
   ]
  },
  {
   "cell_type": "markdown",
   "id": "97b7c10a",
   "metadata": {},
   "source": []
  },
  {
   "cell_type": "markdown",
   "id": "06ee2f6e",
   "metadata": {},
   "source": [
    "### Videoaula 11 - Visão Computacional - Classificação"
   ]
  },
  {
   "cell_type": "markdown",
   "id": "3c6739da",
   "metadata": {},
   "source": [
    "https://youtu.be/U5jzBmlqqE8"
   ]
  },
  {
   "cell_type": "markdown",
   "id": "ae572183",
   "metadata": {},
   "source": [
    "#### Quiz - videoaula 11"
   ]
  },
  {
   "cell_type": "markdown",
   "id": "a24a0620",
   "metadata": {},
   "source": []
  },
  {
   "cell_type": "markdown",
   "id": "481a5cef",
   "metadata": {},
   "source": [
    "### Videoaula 12 - Redes Neurais Convolucionais"
   ]
  },
  {
   "cell_type": "markdown",
   "id": "d2e4577e",
   "metadata": {},
   "source": [
    "https://youtu.be/jYmwMKAXrB8"
   ]
  },
  {
   "cell_type": "markdown",
   "id": "cd6199a2",
   "metadata": {},
   "source": [
    "#### Quiz - videoaula 12"
   ]
  },
  {
   "cell_type": "markdown",
   "id": "90638933",
   "metadata": {},
   "source": []
  },
  {
   "cell_type": "markdown",
   "id": "e13dcf0e",
   "metadata": {},
   "source": [
    "## Material-Base"
   ]
  },
  {
   "cell_type": "markdown",
   "id": "fd1bd90b",
   "metadata": {},
   "source": [
    "### Texto-base 1"
   ]
  },
  {
   "cell_type": "markdown",
   "id": "b685f538",
   "metadata": {},
   "source": []
  },
  {
   "cell_type": "markdown",
   "id": "cbe8445e",
   "metadata": {},
   "source": [
    "### Texto-base 2"
   ]
  },
  {
   "cell_type": "markdown",
   "id": "5df5586e",
   "metadata": {},
   "source": []
  },
  {
   "cell_type": "markdown",
   "id": "819dbc65",
   "metadata": {},
   "source": [
    "### Texto-base 3"
   ]
  },
  {
   "cell_type": "markdown",
   "id": "a3f6acc5",
   "metadata": {},
   "source": []
  },
  {
   "cell_type": "markdown",
   "id": "46d14e81",
   "metadata": {},
   "source": [
    "## Quiz Objeto Educacional"
   ]
  },
  {
   "cell_type": "markdown",
   "id": "ea6bd17e",
   "metadata": {},
   "source": []
  },
  {
   "cell_type": "markdown",
   "id": "1e4a710b",
   "metadata": {},
   "source": [
    "## Atividade Avaliativa - Semana 4"
   ]
  },
  {
   "cell_type": "markdown",
   "id": "39cda4e9",
   "metadata": {},
   "source": []
  },
  {
   "cell_type": "markdown",
   "id": "4e41a64e",
   "metadata": {},
   "source": [
    "## Aprofundando o Tema"
   ]
  },
  {
   "cell_type": "markdown",
   "id": "7c6200cc",
   "metadata": {},
   "source": [
    "### Texto de Apoio 1"
   ]
  },
  {
   "cell_type": "markdown",
   "id": "854b91cc",
   "metadata": {},
   "source": []
  },
  {
   "cell_type": "markdown",
   "id": "60ab8e4c",
   "metadata": {},
   "source": [
    "## Em Síntese"
   ]
  },
  {
   "cell_type": "markdown",
   "id": "5bef9035",
   "metadata": {},
   "source": []
  }
 ],
 "metadata": {
  "language_info": {
   "name": "python"
  }
 },
 "nbformat": 4,
 "nbformat_minor": 5
}
