{
 "cells": [
  {
   "cell_type": "markdown",
   "id": "397bcf09",
   "metadata": {},
   "source": [
    "# Semana 4 - Introdução aos Autoencoders"
   ]
  },
  {
   "cell_type": "markdown",
   "id": "f7a38f6c",
   "metadata": {},
   "source": [
    "## Desafio"
   ]
  },
  {
   "cell_type": "markdown",
   "id": "9f36f80c",
   "metadata": {},
   "source": []
  },
  {
   "cell_type": "markdown",
   "id": "864801b2",
   "metadata": {},
   "source": [
    "##"
   ]
  },
  {
   "cell_type": "markdown",
   "id": "235b078d",
   "metadata": {},
   "source": [
    "### Texto-base"
   ]
  },
  {
   "cell_type": "markdown",
   "id": "2f4e5046",
   "metadata": {},
   "source": [
    "Deep Learning Book - Capítulo 58 - Introdução aos Autoencoders | Data Science Academy"
   ]
  },
  {
   "cell_type": "markdown",
   "id": "5a437ae5",
   "metadata": {},
   "source": []
  },
  {
   "cell_type": "markdown",
   "id": "8002929d",
   "metadata": {},
   "source": [
    "### Videoaula 10 - Autoencoders"
   ]
  },
  {
   "cell_type": "markdown",
   "id": "b4d50988",
   "metadata": {},
   "source": [
    "https://youtu.be/xfKzvkzoNR0"
   ]
  },
  {
   "cell_type": "markdown",
   "id": "c362a591",
   "metadata": {},
   "source": [
    "### Texto-base"
   ]
  },
  {
   "cell_type": "markdown",
   "id": "030a7076",
   "metadata": {},
   "source": [
    "Aprendizagem Profunda - Seção 7.1 - Introdução aos Autoencoders | Yann LeCun, Alfredo Canziani"
   ]
  },
  {
   "cell_type": "markdown",
   "id": "7caf2a7c",
   "metadata": {},
   "source": []
  },
  {
   "cell_type": "markdown",
   "id": "cc938f57",
   "metadata": {},
   "source": [
    "#### Quiz - videoaula 10"
   ]
  },
  {
   "cell_type": "markdown",
   "id": "77817dd0",
   "metadata": {},
   "source": []
  },
  {
   "cell_type": "code",
   "execution_count": null,
   "id": "f3b1104a",
   "metadata": {
    "vscode": {
     "languageId": "plaintext"
    }
   },
   "outputs": [],
   "source": []
  },
  {
   "cell_type": "markdown",
   "id": "ae155a7c",
   "metadata": {},
   "source": [
    "### Texto-base - Deep Learning Book - Capítulo 59 - Principais Tipos de Redes Neurais Artificiais Autoencoders | Data Science Academy"
   ]
  },
  {
   "cell_type": "markdown",
   "id": "02255980",
   "metadata": {},
   "source": []
  },
  {
   "cell_type": "markdown",
   "id": "c56cea1b",
   "metadata": {},
   "source": [
    "### Texto-base"
   ]
  },
  {
   "cell_type": "markdown",
   "id": "9842d98f",
   "metadata": {},
   "source": [
    "Stanford Unsupervised Feature Learning and Deep Learning - Tutorial \"Autoencoders\" (codificadores automáticos) | Andrew Ng et al"
   ]
  },
  {
   "cell_type": "markdown",
   "id": "9389a4d1",
   "metadata": {},
   "source": [
    "### Texto-base"
   ]
  },
  {
   "cell_type": "markdown",
   "id": "87d444fc",
   "metadata": {},
   "source": [
    "Reproducible Machine Learning for Credit Card Fraud Detection - Practical Handbook - Seção 7.3 | Yann-Aël Le Borgne, Wissam Siblini, Bertrand Lebichot e Gianluca Bontempi"
   ]
  },
  {
   "cell_type": "markdown",
   "id": "51f4cc62",
   "metadata": {},
   "source": []
  },
  {
   "cell_type": "markdown",
   "id": "3ac28e39",
   "metadata": {},
   "source": [
    "### Videoaula 11 - Autoencoders: Principais Arquiteturas"
   ]
  },
  {
   "cell_type": "markdown",
   "id": "65f10515",
   "metadata": {},
   "source": [
    "https://youtu.be/jG5dcamIU94"
   ]
  },
  {
   "cell_type": "markdown",
   "id": "7f584cf7",
   "metadata": {},
   "source": [
    "#### Quiz - videoaula 11"
   ]
  },
  {
   "cell_type": "markdown",
   "id": "7db8aae7",
   "metadata": {},
   "source": []
  },
  {
   "cell_type": "markdown",
   "id": "f661d68c",
   "metadata": {},
   "source": [
    "### Videoaula 12 - Autoencoders: Aplicações e Prática"
   ]
  },
  {
   "cell_type": "markdown",
   "id": "407ae0f6",
   "metadata": {},
   "source": [
    "https://youtu.be/v4pB9SkmtHQ"
   ]
  },
  {
   "cell_type": "markdown",
   "id": "4d4200a0",
   "metadata": {},
   "source": []
  },
  {
   "cell_type": "markdown",
   "id": "f6682718",
   "metadata": {},
   "source": [
    "#### Quiz - videoaula 12"
   ]
  },
  {
   "cell_type": "markdown",
   "id": "5401ba7f",
   "metadata": {},
   "source": []
  },
  {
   "cell_type": "markdown",
   "id": "b55802be",
   "metadata": {},
   "source": [
    "## Quiz Objeto Educacional"
   ]
  },
  {
   "cell_type": "markdown",
   "id": "1def30b5",
   "metadata": {},
   "source": []
  },
  {
   "cell_type": "markdown",
   "id": "c87bee06",
   "metadata": {},
   "source": [
    "## Exercício de Apoio"
   ]
  },
  {
   "cell_type": "markdown",
   "id": "7b067b2b",
   "metadata": {},
   "source": []
  },
  {
   "cell_type": "markdown",
   "id": "851c718d",
   "metadata": {},
   "source": [
    "## Atividade Avaliativa - Semana 4"
   ]
  },
  {
   "cell_type": "markdown",
   "id": "db483f87",
   "metadata": {},
   "source": []
  },
  {
   "cell_type": "markdown",
   "id": "f337b1dc",
   "metadata": {},
   "source": [
    "## Aprofundando o Tema"
   ]
  },
  {
   "cell_type": "markdown",
   "id": "9399581e",
   "metadata": {},
   "source": [
    "### Material de Apoio"
   ]
  },
  {
   "cell_type": "markdown",
   "id": "4332c46f",
   "metadata": {},
   "source": [
    "[Introdução a Autoencoders | IA Expert Academy](https://youtu.be/ADbPhK5-bvE)"
   ]
  },
  {
   "cell_type": "markdown",
   "id": "f44cd7cd",
   "metadata": {},
   "source": []
  },
  {
   "cell_type": "markdown",
   "id": "3426a7fb",
   "metadata": {},
   "source": [
    "### Material de Apoio"
   ]
  },
  {
   "cell_type": "markdown",
   "id": "d12c9bc4",
   "metadata": {},
   "source": [
    "[Autoencoders | Wikipedia](https://en-m-wikipedia-org.translate.goog/wiki/Autoencoder?_x_tr_sl=en&_x_tr_tl=pt&_x_tr_hl=en-US&_x_tr_pto=wapp)"
   ]
  },
  {
   "cell_type": "markdown",
   "id": "36102f66",
   "metadata": {},
   "source": []
  },
  {
   "cell_type": "markdown",
   "id": "0671f635",
   "metadata": {},
   "source": [
    "## Em Síntese"
   ]
  },
  {
   "cell_type": "markdown",
   "id": "28fd3b4d",
   "metadata": {},
   "source": []
  },
  {
   "cell_type": "markdown",
   "id": "78b9d8b8",
   "metadata": {},
   "source": []
  }
 ],
 "metadata": {
  "language_info": {
   "name": "python"
  }
 },
 "nbformat": 4,
 "nbformat_minor": 5
}
