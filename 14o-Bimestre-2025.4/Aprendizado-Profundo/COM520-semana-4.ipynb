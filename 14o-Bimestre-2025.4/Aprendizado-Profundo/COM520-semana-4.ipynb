{
 "cells": [
  {
   "cell_type": "markdown",
   "id": "397bcf09",
   "metadata": {},
   "source": [
    "# Semana 4 - "
   ]
  },
  {
   "cell_type": "markdown",
   "id": "f7a38f6c",
   "metadata": {},
   "source": []
  }
 ],
 "metadata": {
  "language_info": {
   "name": "python"
  }
 },
 "nbformat": 4,
 "nbformat_minor": 5
}
