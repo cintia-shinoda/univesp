{
 "cells": [
  {
   "cell_type": "markdown",
   "id": "a49a23c5",
   "metadata": {},
   "source": [
    "# Semana 3 - Redes Recorrentes"
   ]
  },
  {
   "cell_type": "markdown",
   "id": "bea5b3c7",
   "metadata": {},
   "source": [
    "## Desafio"
   ]
  },
  {
   "cell_type": "markdown",
   "id": "243ef91c",
   "metadata": {},
   "source": []
  },
  {
   "cell_type": "markdown",
   "id": "34dd7716",
   "metadata": {},
   "source": [
    "##"
   ]
  },
  {
   "cell_type": "markdown",
   "id": "f2aa6e1e",
   "metadata": {},
   "source": [
    "### Texto-base"
   ]
  },
  {
   "cell_type": "markdown",
   "id": "96831698",
   "metadata": {},
   "source": [
    "Deep Learning Book - Capítulo 48 - Redes Neurais Recorrentes | Data Science Academy"
   ]
  },
  {
   "cell_type": "markdown",
   "id": "6b85abd8",
   "metadata": {},
   "source": [
    "### Texto-base"
   ]
  },
  {
   "cell_type": "markdown",
   "id": "c7c998f5",
   "metadata": {},
   "source": [
    "Deep Learning Book - Capítulo 49 - A Matemática do Backpropagation Through Time (BPTT) | Data Science Academy"
   ]
  },
  {
   "cell_type": "markdown",
   "id": "1144fdf6",
   "metadata": {},
   "source": [
    "### Texto-base"
   ]
  },
  {
   "cell_type": "markdown",
   "id": "7fd29fc3",
   "metadata": {},
   "source": [
    "Deep Learning Book - Capítulo 50 - A Matemática da Dissipação do Gradiente e Aplicações das RNNs | Data Science Academy"
   ]
  },
  {
   "cell_type": "markdown",
   "id": "86064936",
   "metadata": {},
   "source": [
    "### Videoaula 7 - Redes Recorrentes (RNN)"
   ]
  },
  {
   "cell_type": "markdown",
   "id": "ee5be0c2",
   "metadata": {},
   "source": []
  },
  {
   "cell_type": "markdown",
   "id": "a0bac4ce",
   "metadata": {},
   "source": [
    "#### Quiz - videoaula 7"
   ]
  },
  {
   "cell_type": "markdown",
   "id": "b7d832ac",
   "metadata": {},
   "source": []
  },
  {
   "cell_type": "markdown",
   "id": "348281a5",
   "metadata": {},
   "source": [
    "### Texto-base"
   ]
  },
  {
   "cell_type": "markdown",
   "id": "0e89aade",
   "metadata": {},
   "source": [
    "Deep Learning Book - Capítulo 51 - Arquitetura de Redes Neurais Long Short-Term Memory (LSTM) | Data Science Academy"
   ]
  },
  {
   "cell_type": "markdown",
   "id": "79cfeb5e",
   "metadata": {},
   "source": [
    "### Texto-base"
   ]
  },
  {
   "cell_type": "markdown",
   "id": "5ee24815",
   "metadata": {},
   "source": [
    "Deep Learning Book - Capítulo 52 - Arquitetura de Redes Neurais Gated Recurrent Unit (GRU) | Data Science Academy"
   ]
  },
  {
   "cell_type": "markdown",
   "id": "f04d1c46",
   "metadata": {},
   "source": [
    "### Texto-base"
   ]
  },
  {
   "cell_type": "markdown",
   "id": "b0541df0",
   "metadata": {},
   "source": [
    "Deep Learning Book - Capítulo 53 - Matemática na GRU, Dissipação e Clipping do Gradiente | Data Science Academy"
   ]
  },
  {
   "cell_type": "markdown",
   "id": "3203b19c",
   "metadata": {},
   "source": [
    "### Texto-base"
   ]
  },
  {
   "cell_type": "markdown",
   "id": "e86c2558",
   "metadata": {},
   "source": [
    "Aprendizado Profundo para Leigos - Capítulo 11 - Apresentando as Redes Neurais Recorrentes | John Paul Mueller e Luca Massaron"
   ]
  },
  {
   "cell_type": "markdown",
   "id": "1a23e51d",
   "metadata": {},
   "source": [
    "### Texto-base"
   ]
  },
  {
   "cell_type": "markdown",
   "id": "491a1c9a",
   "metadata": {},
   "source": [
    "Dive Into Deep Learning - Seção 9.4"
   ]
  },
  {
   "cell_type": "markdown",
   "id": "0798ae1e",
   "metadata": {},
   "source": [
    "### Videoaula 8 - RNN: Principais Arquiteturas"
   ]
  },
  {
   "cell_type": "markdown",
   "id": "45db2bfb",
   "metadata": {},
   "source": []
  },
  {
   "cell_type": "markdown",
   "id": "f0fa039b",
   "metadata": {},
   "source": [
    "#### Quiz - videoaula 8"
   ]
  },
  {
   "cell_type": "markdown",
   "id": "88d1b77f",
   "metadata": {},
   "source": []
  },
  {
   "cell_type": "markdown",
   "id": "0a11cf09",
   "metadata": {},
   "source": [
    "### Videoaula 9 - RNN: Aplicações e Prática"
   ]
  },
  {
   "cell_type": "markdown",
   "id": "44dc49d0",
   "metadata": {},
   "source": []
  },
  {
   "cell_type": "markdown",
   "id": "782ce7fd",
   "metadata": {},
   "source": [
    "#### Quiz - videoaula 9"
   ]
  },
  {
   "cell_type": "markdown",
   "id": "39237054",
   "metadata": {},
   "source": []
  },
  {
   "cell_type": "markdown",
   "id": "1d7640e0",
   "metadata": {},
   "source": [
    "## Quiz Objeto Educacional"
   ]
  },
  {
   "cell_type": "markdown",
   "id": "b6b810f0",
   "metadata": {},
   "source": []
  },
  {
   "cell_type": "markdown",
   "id": "4b9a4ab9",
   "metadata": {},
   "source": [
    "## Exercício de Apoio"
   ]
  },
  {
   "cell_type": "markdown",
   "id": "094d62e1",
   "metadata": {},
   "source": []
  },
  {
   "cell_type": "markdown",
   "id": "54f63a23",
   "metadata": {},
   "source": [
    "## Atividade Avaliativa - Semana 3"
   ]
  },
  {
   "cell_type": "markdown",
   "id": "4a78a9ce",
   "metadata": {},
   "source": []
  },
  {
   "cell_type": "markdown",
   "id": "84d391ea",
   "metadata": {},
   "source": [
    "## Aprofundando o Tema"
   ]
  },
  {
   "cell_type": "markdown",
   "id": "4cfaf443",
   "metadata": {},
   "source": [
    "### Material de Apoio"
   ]
  },
  {
   "cell_type": "markdown",
   "id": "623a67bc",
   "metadata": {},
   "source": []
  },
  {
   "cell_type": "markdown",
   "id": "0099b46d",
   "metadata": {},
   "source": [
    "### Material de Apoio"
   ]
  },
  {
   "cell_type": "markdown",
   "id": "247a28cc",
   "metadata": {},
   "source": []
  },
  {
   "cell_type": "markdown",
   "id": "6010cc0c",
   "metadata": {},
   "source": [
    "## Em Síntese"
   ]
  },
  {
   "cell_type": "markdown",
   "id": "996b894a",
   "metadata": {},
   "source": []
  },
  {
   "cell_type": "markdown",
   "id": "7b10058b",
   "metadata": {},
   "source": []
  }
 ],
 "metadata": {
  "language_info": {
   "name": "python"
  }
 },
 "nbformat": 4,
 "nbformat_minor": 5
}
