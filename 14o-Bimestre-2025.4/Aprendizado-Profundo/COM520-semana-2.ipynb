{
 "cells": [
  {
   "cell_type": "markdown",
   "id": "80861b63",
   "metadata": {},
   "source": [
    "# Semana 2 - Redes Convolucionais"
   ]
  },
  {
   "cell_type": "markdown",
   "id": "86145c2a",
   "metadata": {},
   "source": [
    "## Desafio"
   ]
  },
  {
   "cell_type": "markdown",
   "id": "2c527cf5",
   "metadata": {},
   "source": []
  },
  {
   "cell_type": "markdown",
   "id": "4084ec4e",
   "metadata": {},
   "source": [
    "## Revisitando Conhecimentos"
   ]
  },
  {
   "cell_type": "markdown",
   "id": "df9917c8",
   "metadata": {},
   "source": [
    "Capítulo 23 - Como funciona o Dropout - *Deep Learning Book* - Data Science Academy"
   ]
  },
  {
   "cell_type": "markdown",
   "id": "8da00276",
   "metadata": {},
   "source": [
    "##"
   ]
  },
  {
   "cell_type": "markdown",
   "id": "ade8369b",
   "metadata": {},
   "source": [
    "### Texto-base"
   ]
  },
  {
   "cell_type": "markdown",
   "id": "11104daf",
   "metadata": {},
   "source": [
    "Capítulo 40 do livro *Deep Learning Book*"
   ]
  },
  {
   "cell_type": "markdown",
   "id": "8db41942",
   "metadata": {},
   "source": [
    "Capítulo 41 do livro *Deep Learning Book*"
   ]
  },
  {
   "cell_type": "markdown",
   "id": "6c2ecc66",
   "metadata": {},
   "source": [
    "Capítulo 42 do livro *Deep Learning Book*"
   ]
  },
  {
   "cell_type": "markdown",
   "id": "9039b56d",
   "metadata": {},
   "source": [
    "Capítulo 43 do livro *Deep Learning Book*"
   ]
  },
  {
   "cell_type": "markdown",
   "id": "1ebb1d54",
   "metadata": {},
   "source": [
    "### Texto-base"
   ]
  },
  {
   "cell_type": "markdown",
   "id": "8c6c65de",
   "metadata": {},
   "source": [
    "Capítulo 10 do livro *Aprendizado profundo para leigos: Apresentando o aprendizado profundo*, Mueller"
   ]
  },
  {
   "cell_type": "markdown",
   "id": "5b703686",
   "metadata": {},
   "source": [
    "### Videoaula 4 - Redes Convolucionais (CNN)"
   ]
  },
  {
   "cell_type": "markdown",
   "id": "99ca4b23",
   "metadata": {},
   "source": [
    "https://youtu.be/gObd64oXjDQ\n",
    "\n"
   ]
  },
  {
   "cell_type": "markdown",
   "id": "e6bf1982",
   "metadata": {},
   "source": [
    "#### Quiz - videoaula 4"
   ]
  },
  {
   "cell_type": "markdown",
   "id": "f3ce5025",
   "metadata": {},
   "source": [
    "### Texto-base"
   ]
  },
  {
   "cell_type": "markdown",
   "id": "ba0765b9",
   "metadata": {},
   "source": [
    "Capítulo 7 do livro *Dive Into Deep Learning: Redes Neurais Convolucionais Modernas (Seções 7.1, 7.2, 7.4 e 7.6)*, Zhang et al"
   ]
  },
  {
   "cell_type": "markdown",
   "id": "91f80d48",
   "metadata": {},
   "source": [
    "### Videoaula 5 - CNN: Arquiteturas"
   ]
  },
  {
   "cell_type": "markdown",
   "id": "cca0274c",
   "metadata": {},
   "source": [
    "https://youtu.be/O-r0P2Yjlj4"
   ]
  },
  {
   "cell_type": "markdown",
   "id": "5cf270df",
   "metadata": {},
   "source": [
    "#### Quiz - videoaula 5"
   ]
  },
  {
   "cell_type": "markdown",
   "id": "4f33a14d",
   "metadata": {},
   "source": []
  },
  {
   "cell_type": "markdown",
   "id": "8af1726b",
   "metadata": {},
   "source": [
    "### Texto-base"
   ]
  },
  {
   "cell_type": "markdown",
   "id": "279b4284",
   "metadata": {},
   "source": [
    "Capítulo 44 do livro *Deep Learning Book*"
   ]
  },
  {
   "cell_type": "markdown",
   "id": "347423f9",
   "metadata": {},
   "source": [
    "Capítulo 45 do livro *Deep Learning Book*"
   ]
  },
  {
   "cell_type": "markdown",
   "id": "f021e4e7",
   "metadata": {},
   "source": [
    "Capítulo 46 do livro *Deep Learning Book*"
   ]
  },
  {
   "cell_type": "markdown",
   "id": "c3b4e389",
   "metadata": {},
   "source": [
    "Capítulo 47 do livro *Deep Learning Book*"
   ]
  },
  {
   "cell_type": "markdown",
   "id": "0b2ddc26",
   "metadata": {},
   "source": [
    "### Videoaula 6 - CNN: Aplicações e Prática"
   ]
  },
  {
   "cell_type": "markdown",
   "id": "e67aabb6",
   "metadata": {},
   "source": [
    "https://youtu.be/3W89yLGRcUI"
   ]
  },
  {
   "cell_type": "markdown",
   "id": "c9729573",
   "metadata": {},
   "source": [
    "#### Quiz - videoaula 6"
   ]
  },
  {
   "cell_type": "markdown",
   "id": "b2f39ea8",
   "metadata": {},
   "source": []
  },
  {
   "cell_type": "markdown",
   "id": "3dab8dd9",
   "metadata": {},
   "source": [
    "## Quiz Objeto Educacional"
   ]
  },
  {
   "cell_type": "markdown",
   "id": "d170fd8d",
   "metadata": {},
   "source": []
  },
  {
   "cell_type": "markdown",
   "id": "4492dc78",
   "metadata": {},
   "source": [
    "## Exercício de Apoio"
   ]
  },
  {
   "cell_type": "markdown",
   "id": "0ef3c489",
   "metadata": {},
   "source": []
  },
  {
   "cell_type": "markdown",
   "id": "6880aa27",
   "metadata": {},
   "source": [
    "## Atividade Avaliativa - Semana 2"
   ]
  },
  {
   "cell_type": "markdown",
   "id": "ab72ea01",
   "metadata": {},
   "source": []
  },
  {
   "cell_type": "markdown",
   "id": "8361bed4",
   "metadata": {},
   "source": [
    "## Aprofundando o Tema"
   ]
  },
  {
   "cell_type": "markdown",
   "id": "843838bc",
   "metadata": {},
   "source": [
    "- Material de apoio: [A revolução do Aprendizado Profundo - Capítulo 9 - Aprendizado Convolucional | Terrence Sejnowski](https://acesso.univesp.br/login_mb?bookUrl=9788550814353/epubcfi/6/36[%3Bvnd.vst.idref%3DEpub_TheDeepLearning_Cap09]!/4[Epub_TheDeepLearning_Cap09]/2[_idContainer086]/4[_idParaDest-12]/3:23[ion%2Cal])\n",
    "\n",
    "- Material de apoio: [Dive Into Deep Learning - Capítulo 6 - Redes Neurais Convolucionais | Aston Zhang et al](https://pt.d2l.ai/chapter_convolutional-neural-networks/)\n",
    "\n",
    "- Material de apoio: [Deep Learning Book - Capítulo 23 - Como funciona o Dropout? | Data Science Academy](https://www.deeplearningbook.com.br/capitulo-23-como-funciona-o-dropout/)"
   ]
  },
  {
   "cell_type": "markdown",
   "id": "3ca5efb1",
   "metadata": {},
   "source": [
    "## Em Síntese"
   ]
  },
  {
   "cell_type": "markdown",
   "id": "4a8d738f",
   "metadata": {},
   "source": []
  }
 ],
 "metadata": {
  "language_info": {
   "name": "python"
  }
 },
 "nbformat": 4,
 "nbformat_minor": 5
}
