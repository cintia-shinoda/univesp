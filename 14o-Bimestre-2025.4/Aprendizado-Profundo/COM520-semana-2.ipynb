{
 "cells": [
  {
   "cell_type": "markdown",
   "id": "80861b63",
   "metadata": {},
   "source": [
    "# Semana 2 - Redes Convolucionais"
   ]
  },
  {
   "cell_type": "markdown",
   "id": "bb602ac5",
   "metadata": {},
   "source": [
    "## Desafio"
   ]
  },
  {
   "cell_type": "markdown",
   "id": "189fb644",
   "metadata": {},
   "source": []
  },
  {
   "cell_type": "markdown",
   "id": "2e8571e9",
   "metadata": {},
   "source": [
    "## Revisitando Conhecimentos"
   ]
  },
  {
   "cell_type": "markdown",
   "id": "74e29c10",
   "metadata": {},
   "source": []
  },
  {
   "cell_type": "markdown",
   "id": "5e6f4c55",
   "metadata": {},
   "source": [
    "##"
   ]
  },
  {
   "cell_type": "markdown",
   "id": "d80fd940",
   "metadata": {},
   "source": [
    "### Texto-base"
   ]
  },
  {
   "cell_type": "markdown",
   "id": "09e175bb",
   "metadata": {},
   "source": []
  },
  {
   "cell_type": "markdown",
   "id": "f880facc",
   "metadata": {},
   "source": [
    "### Texto-base"
   ]
  },
  {
   "cell_type": "markdown",
   "id": "cb18fa01",
   "metadata": {},
   "source": []
  },
  {
   "cell_type": "markdown",
   "id": "63013c6a",
   "metadata": {},
   "source": [
    "### Texto-base"
   ]
  },
  {
   "cell_type": "markdown",
   "id": "72da68f1",
   "metadata": {},
   "source": []
  },
  {
   "cell_type": "markdown",
   "id": "7846187a",
   "metadata": {},
   "source": [
    "### Texto-base"
   ]
  },
  {
   "cell_type": "markdown",
   "id": "769ff13e",
   "metadata": {},
   "source": []
  },
  {
   "cell_type": "markdown",
   "id": "4c928dfe",
   "metadata": {},
   "source": [
    "### Texto-base"
   ]
  },
  {
   "cell_type": "markdown",
   "id": "9bef5e12",
   "metadata": {},
   "source": []
  },
  {
   "cell_type": "markdown",
   "id": "2c05c7ea",
   "metadata": {},
   "source": [
    "### Videoaula 4 - Redes Convolucionais (CNN)"
   ]
  },
  {
   "cell_type": "markdown",
   "id": "c3542a6c",
   "metadata": {},
   "source": []
  },
  {
   "cell_type": "markdown",
   "id": "d38ff811",
   "metadata": {},
   "source": [
    "#### Quiz - videoaula 4"
   ]
  },
  {
   "cell_type": "markdown",
   "id": "57742cc6",
   "metadata": {},
   "source": []
  },
  {
   "cell_type": "markdown",
   "id": "f934c987",
   "metadata": {},
   "source": [
    "### Texto-base"
   ]
  },
  {
   "cell_type": "markdown",
   "id": "1ed280b3",
   "metadata": {},
   "source": []
  },
  {
   "cell_type": "markdown",
   "id": "25b0ae63",
   "metadata": {},
   "source": [
    "### Videoaula 5 - CNN Arquiteturas"
   ]
  },
  {
   "cell_type": "markdown",
   "id": "95f8b9f0",
   "metadata": {},
   "source": []
  },
  {
   "cell_type": "markdown",
   "id": "e50f364f",
   "metadata": {},
   "source": [
    "#### Quiz - videoaula 5"
   ]
  },
  {
   "cell_type": "markdown",
   "id": "1f3a0db4",
   "metadata": {},
   "source": []
  },
  {
   "cell_type": "markdown",
   "id": "3fdf593f",
   "metadata": {},
   "source": [
    "### Texto-base"
   ]
  },
  {
   "cell_type": "markdown",
   "id": "ced6659c",
   "metadata": {},
   "source": []
  },
  {
   "cell_type": "markdown",
   "id": "008505fa",
   "metadata": {},
   "source": [
    "### Texto-base"
   ]
  },
  {
   "cell_type": "markdown",
   "id": "fcdae6f5",
   "metadata": {},
   "source": []
  },
  {
   "cell_type": "markdown",
   "id": "a55f4f82",
   "metadata": {},
   "source": [
    "### Texto-base"
   ]
  },
  {
   "cell_type": "markdown",
   "id": "ae173fca",
   "metadata": {},
   "source": []
  },
  {
   "cell_type": "markdown",
   "id": "8258f40f",
   "metadata": {},
   "source": [
    "### Texto-base"
   ]
  },
  {
   "cell_type": "markdown",
   "id": "2d667202",
   "metadata": {},
   "source": []
  },
  {
   "cell_type": "markdown",
   "id": "a38b4442",
   "metadata": {},
   "source": [
    "### Videoaula 6 - CNN: Aplicações e Prática"
   ]
  },
  {
   "cell_type": "markdown",
   "id": "b39a503f",
   "metadata": {},
   "source": []
  },
  {
   "cell_type": "markdown",
   "id": "3e87bd96",
   "metadata": {},
   "source": [
    "#### Quiz - videoaula 6"
   ]
  },
  {
   "cell_type": "markdown",
   "id": "acdcb68b",
   "metadata": {},
   "source": []
  },
  {
   "cell_type": "markdown",
   "id": "afe02082",
   "metadata": {},
   "source": [
    "## Quiz Objeto Educacional"
   ]
  },
  {
   "cell_type": "markdown",
   "id": "a3c1229d",
   "metadata": {},
   "source": []
  },
  {
   "cell_type": "markdown",
   "id": "ca5426ed",
   "metadata": {},
   "source": [
    "## Exercício de Apoio"
   ]
  },
  {
   "cell_type": "markdown",
   "id": "162979af",
   "metadata": {},
   "source": []
  },
  {
   "cell_type": "markdown",
   "id": "7a12a1ac",
   "metadata": {},
   "source": [
    "## Atividade Avaliativa - Semana 2"
   ]
  },
  {
   "cell_type": "markdown",
   "id": "b1dbff47",
   "metadata": {},
   "source": []
  },
  {
   "cell_type": "markdown",
   "id": "4d9a33ad",
   "metadata": {},
   "source": [
    "## Aprofundando o Tema"
   ]
  },
  {
   "cell_type": "markdown",
   "id": "6c4ee947",
   "metadata": {},
   "source": [
    "### Material de apoio"
   ]
  },
  {
   "cell_type": "markdown",
   "id": "793beb4f",
   "metadata": {},
   "source": []
  },
  {
   "cell_type": "markdown",
   "id": "2f4d248b",
   "metadata": {},
   "source": [
    "### Material de Apoio"
   ]
  },
  {
   "cell_type": "markdown",
   "id": "b5400b23",
   "metadata": {},
   "source": []
  },
  {
   "cell_type": "markdown",
   "id": "8a17320e",
   "metadata": {},
   "source": [
    "### Material de Apoio"
   ]
  },
  {
   "cell_type": "markdown",
   "id": "aa93fb07",
   "metadata": {},
   "source": []
  },
  {
   "cell_type": "markdown",
   "id": "47af9a54",
   "metadata": {},
   "source": [
    "## Em Síntese"
   ]
  },
  {
   "cell_type": "markdown",
   "id": "0ae16188",
   "metadata": {},
   "source": []
  }
 ],
 "metadata": {
  "language_info": {
   "name": "python"
  }
 },
 "nbformat": 4,
 "nbformat_minor": 5
}
