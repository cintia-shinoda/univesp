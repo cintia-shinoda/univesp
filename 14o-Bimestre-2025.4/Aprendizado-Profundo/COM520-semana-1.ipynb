{
 "cells": [
  {
   "cell_type": "markdown",
   "id": "9cd90bac",
   "metadata": {
    "id": "9cd90bac"
   },
   "source": [
    "# Semana 1 - Introdução ao Aprendizado Profundo"
   ]
  },
  {
   "cell_type": "markdown",
   "id": "e00dad8c",
   "metadata": {},
   "source": [
    "## Desafio"
   ]
  },
  {
   "cell_type": "markdown",
   "id": "01ff9b00",
   "metadata": {},
   "source": []
  },
  {
   "cell_type": "markdown",
   "id": "9d4cd410",
   "metadata": {},
   "source": [
    "## Revisitando Conhecimentos"
   ]
  },
  {
   "cell_type": "markdown",
   "id": "ca9f8642",
   "metadata": {},
   "source": [
    "- Redes Neurais - Simon Haykin - Capítulo 1"
   ]
  },
  {
   "cell_type": "markdown",
   "id": "6db6b5ad",
   "metadata": {},
   "source": [
    "##"
   ]
  },
  {
   "cell_type": "markdown",
   "id": "d4aa47ad",
   "metadata": {
    "id": "d4aa47ad"
   },
   "source": [
    "### Texto-base"
   ]
  },
  {
   "cell_type": "markdown",
   "id": "4be99b4c",
   "metadata": {},
   "source": [
    "Capítulo 7 do livro *Inteligência Artificial: Uma Abordagem de Aprendizado de Máquina* - Faceli et al.\n",
    "\n"
   ]
  },
  {
   "cell_type": "markdown",
   "id": "51119649",
   "metadata": {
    "id": "51119649"
   },
   "source": [
    "### Texto-base"
   ]
  },
  {
   "cell_type": "markdown",
   "id": "f0247108",
   "metadata": {
    "id": "f0247108"
   },
   "source": [
    "Capítulo 21 do livro *Inteligência Artificial: Uma Abordagem Moderna*, Russell e Norvig"
   ]
  },
  {
   "cell_type": "markdown",
   "id": "214bf1af",
   "metadata": {},
   "source": [
    "### Texto-base"
   ]
  },
  {
   "cell_type": "markdown",
   "id": "a288f310",
   "metadata": {},
   "source": [
    "Capítulo 1 do livro online *Deep Learning Book*"
   ]
  },
  {
   "cell_type": "markdown",
   "id": "8aa316f2",
   "metadata": {},
   "source": [
    "### Texto-base"
   ]
  },
  {
   "cell_type": "markdown",
   "id": "1c4a7f26",
   "metadata": {},
   "source": [
    "Capítulo 2 do livro online *Deep Learning Book* "
   ]
  },
  {
   "cell_type": "markdown",
   "id": "8eda40bc",
   "metadata": {},
   "source": [
    "### Texto-base"
   ]
  },
  {
   "cell_type": "markdown",
   "id": "073d26a9",
   "metadata": {},
   "source": [
    "Capítulo 1 do livro *Aprendizado Profundo para Leigos: Apresentando o Aprendizado Profundo*, Mueller"
   ]
  },
  {
   "cell_type": "markdown",
   "id": "aa47d824",
   "metadata": {},
   "source": [
    "### Videoaula 1 - Introdução ao Aprendizado Profundo"
   ]
  },
  {
   "cell_type": "markdown",
   "id": "b508996e",
   "metadata": {},
   "source": [
    "https://youtu.be/3ve5Z15pnk8"
   ]
  },
  {
   "cell_type": "markdown",
   "id": "101bd108",
   "metadata": {
    "id": "101bd108"
   },
   "source": [
    "### Desafio"
   ]
  },
  {
   "cell_type": "markdown",
   "id": "d68bbff5",
   "metadata": {
    "id": "d68bbff5"
   },
   "source": []
  },
  {
   "cell_type": "markdown",
   "id": "b46d69b7",
   "metadata": {},
   "source": [
    "### Texto-base"
   ]
  },
  {
   "cell_type": "markdown",
   "id": "1dbc153e",
   "metadata": {},
   "source": [
    "Capítulo 3 do livro online *Deep Learning Book*"
   ]
  },
  {
   "cell_type": "markdown",
   "id": "2428eaf7",
   "metadata": {},
   "source": [
    "### Texto-base"
   ]
  },
  {
   "cell_type": "markdown",
   "id": "301f8611",
   "metadata": {},
   "source": [
    "Capítulo 10 do livro online *Deep Learning Book*"
   ]
  },
  {
   "cell_type": "markdown",
   "id": "77192701",
   "metadata": {},
   "source": [
    "### Videoaula 2 - Redes Neurais e o Aprendizado Profundo"
   ]
  },
  {
   "cell_type": "markdown",
   "id": "7abf3c7b",
   "metadata": {},
   "source": [
    "https://youtu.be/gQDRvxpyhrU\n",
    "\n"
   ]
  },
  {
   "cell_type": "markdown",
   "id": "e3f51b3d",
   "metadata": {},
   "source": [
    "### Texto-base"
   ]
  },
  {
   "cell_type": "markdown",
   "id": "59999293",
   "metadata": {},
   "source": [
    "Capítulo 4 do livro *Aprendizado Profundo para Leigos: Aproveitando Frameworks de Aprendizado Profundo*, Mueller"
   ]
  },
  {
   "cell_type": "markdown",
   "id": "12887ff6",
   "metadata": {},
   "source": [
    "### Videoaula 3 - Principais Frameworks de Aprendizado Profundo"
   ]
  },
  {
   "cell_type": "markdown",
   "id": "f3501783",
   "metadata": {},
   "source": [
    "https://youtu.be/oR2zsCuNSuc"
   ]
  },
  {
   "cell_type": "markdown",
   "id": "58c2a408",
   "metadata": {},
   "source": [
    "#### Quiz - videoaula 3"
   ]
  },
  {
   "cell_type": "markdown",
   "id": "458d029f",
   "metadata": {},
   "source": []
  },
  {
   "cell_type": "markdown",
   "id": "c453c151",
   "metadata": {},
   "source": [
    "### Quiz Objeto Educacional"
   ]
  },
  {
   "cell_type": "markdown",
   "id": "d0b09403",
   "metadata": {},
   "source": []
  },
  {
   "cell_type": "markdown",
   "id": "a7ff9d76",
   "metadata": {},
   "source": [
    "### Atividade Avaliativa - Semana 1"
   ]
  },
  {
   "cell_type": "markdown",
   "id": "a0005794",
   "metadata": {},
   "source": []
  },
  {
   "cell_type": "markdown",
   "id": "b5acb278",
   "metadata": {},
   "source": [
    "## Aprofundando o Tema"
   ]
  },
  {
   "cell_type": "markdown",
   "id": "4f9645e6",
   "metadata": {},
   "source": [
    "### Material de Apoio\n",
    "\n",
    "- [7 aplicações cotidianas que utilizam deep learning | Embratel](https://proximonivel.embratel.com.br/5-aplicacoes-cotidianas-que-utilizam-deep-learning/)\n",
    "\n",
    "- [Material de apoio - ChatGPT: o que é, como funciona e como usar? | Rafael Carvalho](https://herospark.com/blog/chat-gpt/)\n",
    "\n",
    "- Material de apoio - [O que é Deep Learning, seu desenvolvimento e quais aplicações | Hostmidia Blog](https://www.hostmidia.com.br/blog/deep-learning/)\n",
    "\n",
    "- Material de apoio - [[vídeo: Deep Learning Explicado | Ciência Todo Dia]](https://youtu.be/ggmDI9_fm54)\n",
    "\n",
    "- Material de apoio - [A revolução do Aprendizado Profundo - Capítulo 1 - A Ascensão do Aprendizado de Máquina) | Terrence Sejnowski](https://acesso.univesp.br/login_mb?bookUrl=9788550814353/epubcfi/6/18[%3Bvnd.vst.idref%3DEpub_TheDeepLearning_Cap01-1]!/4[Epub_TheDeepLearning_Cap01-1]/2/2/3:0[%2C1])\n",
    "\n",
    "- Material de apoio - [A revolução do Aprendizado Profundo - Capítulo 3 - O Alvorecer das Redes Neurais](https://acesso.univesp.br/login_mb?bookUrl=9788550814353/epubcfi/6/22[%3Bvnd.vst.idref%3DEpub_TheDeepLearning_Cap03]!/4[Epub_TheDeepLearning_Cap03]/2[_idContainer034]/2/3:0[%2C3])"
   ]
  },
  {
   "cell_type": "markdown",
   "id": "83f15ba7",
   "metadata": {
    "id": "83f15ba7"
   },
   "source": [
    "## Em Síntese"
   ]
  },
  {
   "cell_type": "markdown",
   "id": "09e8aac7",
   "metadata": {
    "id": "09e8aac7"
   },
   "source": []
  }
 ],
 "metadata": {
  "colab": {
   "provenance": []
  },
  "kernelspec": {
   "display_name": "Python 3",
   "language": "python",
   "name": "python3"
  },
  "language_info": {
   "name": "python",
   "version": "3.12.8"
  }
 },
 "nbformat": 4,
 "nbformat_minor": 5
}
