{
 "cells": [
  {
   "cell_type": "markdown",
   "id": "9cd90bac",
   "metadata": {},
   "source": [
    "# Semana 1 - Introdução ao Aprendizado Profundo"
   ]
  },
  {
   "cell_type": "markdown",
   "id": "101bd108",
   "metadata": {},
   "source": [
    "## Desafio"
   ]
  },
  {
   "cell_type": "markdown",
   "id": "d68bbff5",
   "metadata": {},
   "source": []
  },
  {
   "cell_type": "markdown",
   "id": "6bc2e0ea",
   "metadata": {},
   "source": [
    "## Revisitando Conhecimentos"
   ]
  },
  {
   "cell_type": "markdown",
   "id": "abd2ee59",
   "metadata": {},
   "source": []
  },
  {
   "cell_type": "markdown",
   "id": "3413a22f",
   "metadata": {},
   "source": [
    "##"
   ]
  },
  {
   "cell_type": "markdown",
   "id": "14141ff6",
   "metadata": {},
   "source": []
  },
  {
   "cell_type": "markdown",
   "id": "d4aa47ad",
   "metadata": {},
   "source": [
    "### Texto-base"
   ]
  },
  {
   "cell_type": "markdown",
   "id": "f0247108",
   "metadata": {},
   "source": []
  },
  {
   "cell_type": "markdown",
   "id": "51119649",
   "metadata": {},
   "source": [
    "### Texto-base"
   ]
  },
  {
   "cell_type": "markdown",
   "id": "cf26fb04",
   "metadata": {},
   "source": []
  },
  {
   "cell_type": "markdown",
   "id": "343f093a",
   "metadata": {},
   "source": [
    "### Texto-base"
   ]
  },
  {
   "cell_type": "markdown",
   "id": "9ee00937",
   "metadata": {},
   "source": []
  },
  {
   "cell_type": "markdown",
   "id": "4a3ace78",
   "metadata": {},
   "source": [
    "### Texto-base"
   ]
  },
  {
   "cell_type": "markdown",
   "id": "82f59125",
   "metadata": {},
   "source": []
  },
  {
   "cell_type": "markdown",
   "id": "7569d0bb",
   "metadata": {},
   "source": [
    "### Texto-base"
   ]
  },
  {
   "cell_type": "markdown",
   "id": "af5254ee",
   "metadata": {},
   "source": []
  },
  {
   "cell_type": "markdown",
   "id": "1a7c0f3d",
   "metadata": {},
   "source": [
    "### Videoaula 1 - Introdução ao Aprendizado Profundo"
   ]
  },
  {
   "cell_type": "markdown",
   "id": "dbce0ecb",
   "metadata": {},
   "source": []
  },
  {
   "cell_type": "markdown",
   "id": "ba15a443",
   "metadata": {},
   "source": [
    "#### Quiz - videoaula 1"
   ]
  },
  {
   "cell_type": "markdown",
   "id": "3446bc86",
   "metadata": {},
   "source": []
  },
  {
   "cell_type": "markdown",
   "id": "334a6226",
   "metadata": {},
   "source": [
    "### Texto-base"
   ]
  },
  {
   "cell_type": "markdown",
   "id": "e52f6710",
   "metadata": {},
   "source": []
  },
  {
   "cell_type": "markdown",
   "id": "5f235a9a",
   "metadata": {},
   "source": [
    "### Texto-base"
   ]
  },
  {
   "cell_type": "markdown",
   "id": "85731233",
   "metadata": {},
   "source": []
  },
  {
   "cell_type": "markdown",
   "id": "20ee960b",
   "metadata": {},
   "source": [
    "### Videoaula 2 - Redes Neurais e o Aprendizado Profundo"
   ]
  },
  {
   "cell_type": "markdown",
   "id": "d797afa9",
   "metadata": {},
   "source": []
  },
  {
   "cell_type": "markdown",
   "id": "8a7b9fe4",
   "metadata": {},
   "source": [
    "#### Quiz - videoaula 2"
   ]
  },
  {
   "cell_type": "markdown",
   "id": "844bf33f",
   "metadata": {},
   "source": []
  },
  {
   "cell_type": "markdown",
   "id": "6520dd10",
   "metadata": {},
   "source": [
    "### Texto-base"
   ]
  },
  {
   "cell_type": "markdown",
   "id": "f756741f",
   "metadata": {},
   "source": []
  },
  {
   "cell_type": "markdown",
   "id": "8fe2c87a",
   "metadata": {},
   "source": [
    "### Videoaula 3 - Principais Frameworks de Aprendizado Profundo"
   ]
  },
  {
   "cell_type": "markdown",
   "id": "8b853b2b",
   "metadata": {},
   "source": []
  },
  {
   "cell_type": "markdown",
   "id": "96364fa6",
   "metadata": {},
   "source": [
    "#### Quiz - videoaula 3"
   ]
  },
  {
   "cell_type": "markdown",
   "id": "980c795d",
   "metadata": {},
   "source": []
  },
  {
   "cell_type": "markdown",
   "id": "26406469",
   "metadata": {},
   "source": [
    "## Quiz Objeto Educacional"
   ]
  },
  {
   "cell_type": "markdown",
   "id": "bb9bf73a",
   "metadata": {},
   "source": []
  },
  {
   "cell_type": "markdown",
   "id": "f4e0c427",
   "metadata": {},
   "source": [
    "## Atividade Avaliativa"
   ]
  },
  {
   "cell_type": "markdown",
   "id": "9fda37df",
   "metadata": {},
   "source": []
  },
  {
   "cell_type": "markdown",
   "id": "d0cc9122",
   "metadata": {},
   "source": [
    "## Aprofundando o Tema"
   ]
  },
  {
   "cell_type": "markdown",
   "id": "6c7077df",
   "metadata": {},
   "source": [
    "### Material de Apoio"
   ]
  },
  {
   "cell_type": "markdown",
   "id": "36636376",
   "metadata": {},
   "source": []
  },
  {
   "cell_type": "markdown",
   "id": "bd116875",
   "metadata": {},
   "source": [
    "### Material de Apoio"
   ]
  },
  {
   "cell_type": "markdown",
   "id": "60e78670",
   "metadata": {},
   "source": []
  },
  {
   "cell_type": "markdown",
   "id": "eb061ce6",
   "metadata": {},
   "source": [
    "### Material de Apoio"
   ]
  },
  {
   "cell_type": "markdown",
   "id": "ae9e8b16",
   "metadata": {},
   "source": []
  },
  {
   "cell_type": "markdown",
   "id": "ec5648ac",
   "metadata": {},
   "source": [
    "### Material de Apoio"
   ]
  },
  {
   "cell_type": "markdown",
   "id": "dd82c55b",
   "metadata": {},
   "source": []
  },
  {
   "cell_type": "markdown",
   "id": "631abfc7",
   "metadata": {},
   "source": [
    "### Material de Apoio"
   ]
  },
  {
   "cell_type": "markdown",
   "id": "b1ab0b24",
   "metadata": {},
   "source": []
  },
  {
   "cell_type": "markdown",
   "id": "834fa3cc",
   "metadata": {},
   "source": [
    "### Material de Apoio"
   ]
  },
  {
   "cell_type": "markdown",
   "id": "897da885",
   "metadata": {},
   "source": []
  },
  {
   "cell_type": "markdown",
   "id": "83f15ba7",
   "metadata": {},
   "source": [
    "## Em Síntese"
   ]
  },
  {
   "cell_type": "markdown",
   "id": "09e8aac7",
   "metadata": {},
   "source": []
  }
 ],
 "metadata": {
  "language_info": {
   "name": "python"
  }
 },
 "nbformat": 4,
 "nbformat_minor": 5
}
